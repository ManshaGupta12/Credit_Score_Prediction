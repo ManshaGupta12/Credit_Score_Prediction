{
 "cells": [
  {
   "cell_type": "markdown",
   "id": "HJ6wWWEXJjAM",
   "metadata": {
    "id": "HJ6wWWEXJjAM"
   },
   "source": [
    "# <center> Credit Score Classification"
   ]
  },
  {
   "cell_type": "markdown",
   "id": "EQaa9qA7JjAN",
   "metadata": {
    "id": "EQaa9qA7JjAN"
   },
   "source": [
    "### Problem Statement\n",
    "- You are working as a data scientist in a global finance company. Over the years, the company has collected basic bank details and gathered a lot of credit-related information. The management wants to build an intelligent system to segregate the people into credit score brackets to reduce the manual efforts."
   ]
  },
  {
   "cell_type": "markdown",
   "id": "hSipEscZJjAN",
   "metadata": {
    "id": "hSipEscZJjAN"
   },
   "source": [
    "### Task\n",
    "- Given a person’s credit-related information, build a machine learning model that can classify the credit score."
   ]
  },
  {
   "cell_type": "markdown",
   "id": "s0S3aRmHJjAN",
   "metadata": {
    "id": "s0S3aRmHJjAN"
   },
   "source": [
    "## Table of content\n",
    "- Packages importing\n",
    "- Reading Data\n",
    "- Data Exploration\n",
    "- Data cleaning\n",
    "- Data Preprocessing\n",
    "- Modeling & Evaluation\n"
   ]
  },
  {
   "cell_type": "markdown",
   "id": "Se_NaCTZJjAO",
   "metadata": {
    "id": "Se_NaCTZJjAO"
   },
   "source": [
    "## Packages importing"
   ]
  },
  {
   "cell_type": "code",
   "execution_count": 1,
   "id": "3YhfoJR3JjAO",
   "metadata": {
    "execution": {
     "iopub.execute_input": "2022-10-15T06:18:59.197834Z",
     "iopub.status.busy": "2022-10-15T06:18:59.197583Z",
     "iopub.status.idle": "2022-10-15T06:18:59.596078Z",
     "shell.execute_reply": "2022-10-15T06:18:59.595048Z",
     "shell.execute_reply.started": "2022-10-15T06:18:59.197805Z"
    },
    "id": "3YhfoJR3JjAO",
    "trusted": true
   },
   "outputs": [
    {
     "name": "stderr",
     "output_type": "stream",
     "text": [
      "c:\\Users\\mansh\\AppData\\Local\\Programs\\Python\\Python313\\Lib\\site-packages\\sklearn\\experimental\\enable_hist_gradient_boosting.py:16: UserWarning: Since version 1.0, it is not needed to import enable_hist_gradient_boosting anymore. HistGradientBoostingClassifier and HistGradientBoostingRegressor are now stable and can be normally imported from sklearn.ensemble.\n",
      "  warnings.warn(\n"
     ]
    }
   ],
   "source": [
    "# Packages for EDA\n",
    "import matplotlib.pyplot as plt\n",
    "import seaborn as sns\n",
    "import pandas as pd\n",
    "import numpy as np\n",
    "%matplotlib inline\n",
    "\n",
    "\n",
    "# Data Preprocessing\n",
    "from sklearn.model_selection import train_test_split\n",
    "from sklearn.preprocessing import PowerTransformer\n",
    "from datasist.structdata import detect_outliers\n",
    "from sklearn.metrics import mean_squared_error\n",
    "from imblearn.over_sampling import SMOTE\n",
    "from sklearn.impute import SimpleImputer\n",
    "import category_encoders as ce\n",
    "import re\n",
    "\n",
    "# Modeling and evaluation\n",
    "from sklearn.experimental import enable_hist_gradient_boosting\n",
    "from sklearn.ensemble import (\n",
    "    BaggingClassifier,\n",
    "    ExtraTreesClassifier,\n",
    "    RandomForestClassifier,\n",
    "    StackingClassifier,\n",
    "    HistGradientBoostingClassifier\n",
    ")\n",
    "from xgboost import XGBClassifier\n",
    "from sklearn.metrics import classification_report\n",
    "import joblib\n",
    "\n",
    "# Packages options\n",
    "sns.set(rc={'figure.figsize': [14, 7]}, font_scale=1.2) # Standard figure size for all\n",
    "np.seterr(divide='ignore', invalid='ignore', over='ignore') ;\n",
    "\n",
    "import warnings\n",
    "warnings.filterwarnings(\"ignore\")"
   ]
  },
  {
   "cell_type": "markdown",
   "id": "4TUrJW2lJjAP",
   "metadata": {
    "id": "4TUrJW2lJjAP"
   },
   "source": [
    "## Reading Data"
   ]
  },
  {
   "cell_type": "code",
   "execution_count": 2,
   "id": "pS6xZ6jCJjAP",
   "metadata": {
    "execution": {
     "iopub.execute_input": "2022-10-15T05:44:11.917672Z",
     "iopub.status.busy": "2022-10-15T05:44:11.917444Z",
     "iopub.status.idle": "2022-10-15T05:44:13.128090Z",
     "shell.execute_reply": "2022-10-15T05:44:13.127324Z",
     "shell.execute_reply.started": "2022-10-15T05:44:11.917647Z"
    },
    "id": "pS6xZ6jCJjAP",
    "trusted": true
   },
   "outputs": [],
   "source": [
    "#importing the credit classification dataset\n",
    "df = pd.read_csv(\"F:\\ML LAB\\case study\\credit.csv\")"
   ]
  },
  {
   "cell_type": "code",
   "execution_count": 3,
   "id": "_vZbyTUTJjAP",
   "metadata": {
    "colab": {
     "base_uri": "https://localhost:8080/",
     "height": 447
    },
    "execution": {
     "iopub.execute_input": "2022-10-15T05:44:13.129445Z",
     "iopub.status.busy": "2022-10-15T05:44:13.129155Z",
     "iopub.status.idle": "2022-10-15T05:44:13.171886Z",
     "shell.execute_reply": "2022-10-15T05:44:13.171022Z",
     "shell.execute_reply.started": "2022-10-15T05:44:13.129386Z"
    },
    "id": "_vZbyTUTJjAP",
    "outputId": "640f721c-1bcc-42db-928a-1b81d5013506",
    "trusted": true
   },
   "outputs": [
    {
     "data": {
      "text/html": [
       "<div>\n",
       "<style scoped>\n",
       "    .dataframe tbody tr th:only-of-type {\n",
       "        vertical-align: middle;\n",
       "    }\n",
       "\n",
       "    .dataframe tbody tr th {\n",
       "        vertical-align: top;\n",
       "    }\n",
       "\n",
       "    .dataframe thead th {\n",
       "        text-align: right;\n",
       "    }\n",
       "</style>\n",
       "<table border=\"1\" class=\"dataframe\">\n",
       "  <thead>\n",
       "    <tr style=\"text-align: right;\">\n",
       "      <th></th>\n",
       "      <th>ID</th>\n",
       "      <th>Customer_ID</th>\n",
       "      <th>Month</th>\n",
       "      <th>Name</th>\n",
       "      <th>Age</th>\n",
       "      <th>SSN</th>\n",
       "      <th>Occupation</th>\n",
       "      <th>Annual_Income</th>\n",
       "      <th>Monthly_Inhand_Salary</th>\n",
       "      <th>Num_Bank_Accounts</th>\n",
       "      <th>...</th>\n",
       "      <th>Credit_Mix</th>\n",
       "      <th>Outstanding_Debt</th>\n",
       "      <th>Credit_Utilization_Ratio</th>\n",
       "      <th>Credit_History_Age</th>\n",
       "      <th>Payment_of_Min_Amount</th>\n",
       "      <th>Total_EMI_per_month</th>\n",
       "      <th>Amount_invested_monthly</th>\n",
       "      <th>Payment_Behaviour</th>\n",
       "      <th>Monthly_Balance</th>\n",
       "      <th>Credit_Score</th>\n",
       "    </tr>\n",
       "  </thead>\n",
       "  <tbody>\n",
       "    <tr>\n",
       "      <th>22360</th>\n",
       "      <td>39174</td>\n",
       "      <td>48856</td>\n",
       "      <td>1</td>\n",
       "      <td>Malonef</td>\n",
       "      <td>20.0</td>\n",
       "      <td>510248765.0</td>\n",
       "      <td>Scientist</td>\n",
       "      <td>74449.440</td>\n",
       "      <td>6251.120000</td>\n",
       "      <td>7.0</td>\n",
       "      <td>...</td>\n",
       "      <td>Bad</td>\n",
       "      <td>2646.00</td>\n",
       "      <td>37.301510</td>\n",
       "      <td>68.0</td>\n",
       "      <td>Yes</td>\n",
       "      <td>319.669520</td>\n",
       "      <td>69.104472</td>\n",
       "      <td>High_spent_Small_value_payments</td>\n",
       "      <td>334.170775</td>\n",
       "      <td>Poor</td>\n",
       "    </tr>\n",
       "    <tr>\n",
       "      <th>89653</th>\n",
       "      <td>140111</td>\n",
       "      <td>19737</td>\n",
       "      <td>6</td>\n",
       "      <td>Svea Herbst-Baylissf</td>\n",
       "      <td>15.0</td>\n",
       "      <td>809230817.0</td>\n",
       "      <td>Media_Manager</td>\n",
       "      <td>7448.780</td>\n",
       "      <td>795.731667</td>\n",
       "      <td>3.0</td>\n",
       "      <td>...</td>\n",
       "      <td>Standard</td>\n",
       "      <td>1362.72</td>\n",
       "      <td>30.734616</td>\n",
       "      <td>242.0</td>\n",
       "      <td>Yes</td>\n",
       "      <td>8.593567</td>\n",
       "      <td>14.511727</td>\n",
       "      <td>Low_spent_Large_value_payments</td>\n",
       "      <td>306.452288</td>\n",
       "      <td>Standard</td>\n",
       "    </tr>\n",
       "    <tr>\n",
       "      <th>73701</th>\n",
       "      <td>116183</td>\n",
       "      <td>7760</td>\n",
       "      <td>6</td>\n",
       "      <td>Stephenw</td>\n",
       "      <td>28.0</td>\n",
       "      <td>812896100.0</td>\n",
       "      <td>Lawyer</td>\n",
       "      <td>31500.550</td>\n",
       "      <td>2665.045833</td>\n",
       "      <td>1.0</td>\n",
       "      <td>...</td>\n",
       "      <td>Good</td>\n",
       "      <td>861.13</td>\n",
       "      <td>31.478348</td>\n",
       "      <td>230.0</td>\n",
       "      <td>No</td>\n",
       "      <td>0.000000</td>\n",
       "      <td>38.947468</td>\n",
       "      <td>Low_spent_Small_value_payments</td>\n",
       "      <td>386.145137</td>\n",
       "      <td>Poor</td>\n",
       "    </tr>\n",
       "    <tr>\n",
       "      <th>96048</th>\n",
       "      <td>149706</td>\n",
       "      <td>38580</td>\n",
       "      <td>1</td>\n",
       "      <td>Katie Reidu</td>\n",
       "      <td>14.0</td>\n",
       "      <td>574430696.0</td>\n",
       "      <td>Teacher</td>\n",
       "      <td>18611.390</td>\n",
       "      <td>1758.949167</td>\n",
       "      <td>10.0</td>\n",
       "      <td>...</td>\n",
       "      <td>Bad</td>\n",
       "      <td>3209.39</td>\n",
       "      <td>24.719549</td>\n",
       "      <td>40.0</td>\n",
       "      <td>Yes</td>\n",
       "      <td>81.657242</td>\n",
       "      <td>36.586494</td>\n",
       "      <td>High_spent_Medium_value_payments</td>\n",
       "      <td>307.651181</td>\n",
       "      <td>Poor</td>\n",
       "    </tr>\n",
       "    <tr>\n",
       "      <th>12747</th>\n",
       "      <td>24753</td>\n",
       "      <td>47403</td>\n",
       "      <td>4</td>\n",
       "      <td>LaCapraq</td>\n",
       "      <td>24.0</td>\n",
       "      <td>501272873.0</td>\n",
       "      <td>Doctor</td>\n",
       "      <td>10357.485</td>\n",
       "      <td>1105.781183</td>\n",
       "      <td>9.0</td>\n",
       "      <td>...</td>\n",
       "      <td>Bad</td>\n",
       "      <td>2415.22</td>\n",
       "      <td>36.476396</td>\n",
       "      <td>200.0</td>\n",
       "      <td>Yes</td>\n",
       "      <td>114.371075</td>\n",
       "      <td>26.181052</td>\n",
       "      <td>High_spent_Small_value_payments</td>\n",
       "      <td>251.796332</td>\n",
       "      <td>Poor</td>\n",
       "    </tr>\n",
       "    <tr>\n",
       "      <th>42763</th>\n",
       "      <td>69777</td>\n",
       "      <td>43940</td>\n",
       "      <td>4</td>\n",
       "      <td>Patrick Temple-Westj</td>\n",
       "      <td>48.0</td>\n",
       "      <td>526999750.0</td>\n",
       "      <td>Engineer</td>\n",
       "      <td>19462.925</td>\n",
       "      <td>1611.910417</td>\n",
       "      <td>1.0</td>\n",
       "      <td>...</td>\n",
       "      <td>Good</td>\n",
       "      <td>160.30</td>\n",
       "      <td>34.765590</td>\n",
       "      <td>384.0</td>\n",
       "      <td>NM</td>\n",
       "      <td>45.064231</td>\n",
       "      <td>11.758685</td>\n",
       "      <td>High_spent_Large_value_payments</td>\n",
       "      <td>318.507903</td>\n",
       "      <td>Good</td>\n",
       "    </tr>\n",
       "    <tr>\n",
       "      <th>71182</th>\n",
       "      <td>112404</td>\n",
       "      <td>34806</td>\n",
       "      <td>7</td>\n",
       "      <td>arbara Listond</td>\n",
       "      <td>24.0</td>\n",
       "      <td>708316386.0</td>\n",
       "      <td>Engineer</td>\n",
       "      <td>21404.240</td>\n",
       "      <td>1887.686667</td>\n",
       "      <td>4.0</td>\n",
       "      <td>...</td>\n",
       "      <td>Standard</td>\n",
       "      <td>132.26</td>\n",
       "      <td>34.229797</td>\n",
       "      <td>172.0</td>\n",
       "      <td>Yes</td>\n",
       "      <td>21.310599</td>\n",
       "      <td>14.809830</td>\n",
       "      <td>High_spent_Large_value_payments</td>\n",
       "      <td>370.155383</td>\n",
       "      <td>Standard</td>\n",
       "    </tr>\n",
       "    <tr>\n",
       "      <th>66082</th>\n",
       "      <td>104756</td>\n",
       "      <td>2181</td>\n",
       "      <td>3</td>\n",
       "      <td>Jessica Wohls</td>\n",
       "      <td>31.0</td>\n",
       "      <td>830836678.0</td>\n",
       "      <td>Journalist</td>\n",
       "      <td>44942.230</td>\n",
       "      <td>3926.185833</td>\n",
       "      <td>1.0</td>\n",
       "      <td>...</td>\n",
       "      <td>Good</td>\n",
       "      <td>1058.03</td>\n",
       "      <td>36.117494</td>\n",
       "      <td>341.0</td>\n",
       "      <td>No</td>\n",
       "      <td>26.778409</td>\n",
       "      <td>29.447308</td>\n",
       "      <td>High_spent_Small_value_payments</td>\n",
       "      <td>482.637298</td>\n",
       "      <td>Standard</td>\n",
       "    </tr>\n",
       "    <tr>\n",
       "      <th>94679</th>\n",
       "      <td>147649</td>\n",
       "      <td>42643</td>\n",
       "      <td>8</td>\n",
       "      <td>Stempely</td>\n",
       "      <td>56.0</td>\n",
       "      <td>223852426.0</td>\n",
       "      <td>Media_Manager</td>\n",
       "      <td>13251.255</td>\n",
       "      <td>1318.271250</td>\n",
       "      <td>4.0</td>\n",
       "      <td>...</td>\n",
       "      <td>Standard</td>\n",
       "      <td>921.57</td>\n",
       "      <td>24.840875</td>\n",
       "      <td>226.0</td>\n",
       "      <td>No</td>\n",
       "      <td>5.748476</td>\n",
       "      <td>0.000000</td>\n",
       "      <td>Low_spent_Small_value_payments</td>\n",
       "      <td>362.301563</td>\n",
       "      <td>Standard</td>\n",
       "    </tr>\n",
       "    <tr>\n",
       "      <th>94166</th>\n",
       "      <td>146880</td>\n",
       "      <td>7318</td>\n",
       "      <td>7</td>\n",
       "      <td>Ryan Vlastelicaw</td>\n",
       "      <td>53.0</td>\n",
       "      <td>725995987.0</td>\n",
       "      <td>Teacher</td>\n",
       "      <td>43802.270</td>\n",
       "      <td>3394.189167</td>\n",
       "      <td>4.0</td>\n",
       "      <td>...</td>\n",
       "      <td>Good</td>\n",
       "      <td>1208.70</td>\n",
       "      <td>31.912684</td>\n",
       "      <td>389.0</td>\n",
       "      <td>No</td>\n",
       "      <td>119.077809</td>\n",
       "      <td>36.282421</td>\n",
       "      <td>High_spent_Small_value_payments</td>\n",
       "      <td>244.041635</td>\n",
       "      <td>Poor</td>\n",
       "    </tr>\n",
       "  </tbody>\n",
       "</table>\n",
       "<p>10 rows × 28 columns</p>\n",
       "</div>"
      ],
      "text/plain": [
       "           ID  Customer_ID  Month                  Name   Age          SSN  \\\n",
       "22360   39174        48856      1               Malonef  20.0  510248765.0   \n",
       "89653  140111        19737      6  Svea Herbst-Baylissf  15.0  809230817.0   \n",
       "73701  116183         7760      6              Stephenw  28.0  812896100.0   \n",
       "96048  149706        38580      1           Katie Reidu  14.0  574430696.0   \n",
       "12747   24753        47403      4              LaCapraq  24.0  501272873.0   \n",
       "42763   69777        43940      4  Patrick Temple-Westj  48.0  526999750.0   \n",
       "71182  112404        34806      7        arbara Listond  24.0  708316386.0   \n",
       "66082  104756         2181      3         Jessica Wohls  31.0  830836678.0   \n",
       "94679  147649        42643      8              Stempely  56.0  223852426.0   \n",
       "94166  146880         7318      7      Ryan Vlastelicaw  53.0  725995987.0   \n",
       "\n",
       "          Occupation  Annual_Income  Monthly_Inhand_Salary  Num_Bank_Accounts  \\\n",
       "22360      Scientist      74449.440            6251.120000                7.0   \n",
       "89653  Media_Manager       7448.780             795.731667                3.0   \n",
       "73701         Lawyer      31500.550            2665.045833                1.0   \n",
       "96048        Teacher      18611.390            1758.949167               10.0   \n",
       "12747         Doctor      10357.485            1105.781183                9.0   \n",
       "42763       Engineer      19462.925            1611.910417                1.0   \n",
       "71182       Engineer      21404.240            1887.686667                4.0   \n",
       "66082     Journalist      44942.230            3926.185833                1.0   \n",
       "94679  Media_Manager      13251.255            1318.271250                4.0   \n",
       "94166        Teacher      43802.270            3394.189167                4.0   \n",
       "\n",
       "       ...  Credit_Mix  Outstanding_Debt  Credit_Utilization_Ratio  \\\n",
       "22360  ...         Bad           2646.00                 37.301510   \n",
       "89653  ...    Standard           1362.72                 30.734616   \n",
       "73701  ...        Good            861.13                 31.478348   \n",
       "96048  ...         Bad           3209.39                 24.719549   \n",
       "12747  ...         Bad           2415.22                 36.476396   \n",
       "42763  ...        Good            160.30                 34.765590   \n",
       "71182  ...    Standard            132.26                 34.229797   \n",
       "66082  ...        Good           1058.03                 36.117494   \n",
       "94679  ...    Standard            921.57                 24.840875   \n",
       "94166  ...        Good           1208.70                 31.912684   \n",
       "\n",
       "      Credit_History_Age  Payment_of_Min_Amount  Total_EMI_per_month  \\\n",
       "22360               68.0                    Yes           319.669520   \n",
       "89653              242.0                    Yes             8.593567   \n",
       "73701              230.0                     No             0.000000   \n",
       "96048               40.0                    Yes            81.657242   \n",
       "12747              200.0                    Yes           114.371075   \n",
       "42763              384.0                     NM            45.064231   \n",
       "71182              172.0                    Yes            21.310599   \n",
       "66082              341.0                     No            26.778409   \n",
       "94679              226.0                     No             5.748476   \n",
       "94166              389.0                     No           119.077809   \n",
       "\n",
       "       Amount_invested_monthly                 Payment_Behaviour  \\\n",
       "22360                69.104472   High_spent_Small_value_payments   \n",
       "89653                14.511727    Low_spent_Large_value_payments   \n",
       "73701                38.947468    Low_spent_Small_value_payments   \n",
       "96048                36.586494  High_spent_Medium_value_payments   \n",
       "12747                26.181052   High_spent_Small_value_payments   \n",
       "42763                11.758685   High_spent_Large_value_payments   \n",
       "71182                14.809830   High_spent_Large_value_payments   \n",
       "66082                29.447308   High_spent_Small_value_payments   \n",
       "94679                 0.000000    Low_spent_Small_value_payments   \n",
       "94166                36.282421   High_spent_Small_value_payments   \n",
       "\n",
       "      Monthly_Balance  Credit_Score  \n",
       "22360      334.170775          Poor  \n",
       "89653      306.452288      Standard  \n",
       "73701      386.145137          Poor  \n",
       "96048      307.651181          Poor  \n",
       "12747      251.796332          Poor  \n",
       "42763      318.507903          Good  \n",
       "71182      370.155383      Standard  \n",
       "66082      482.637298      Standard  \n",
       "94679      362.301563      Standard  \n",
       "94166      244.041635          Poor  \n",
       "\n",
       "[10 rows x 28 columns]"
      ]
     },
     "execution_count": 3,
     "metadata": {},
     "output_type": "execute_result"
    }
   ],
   "source": [
    "df.sample(10)"
   ]
  },
  {
   "cell_type": "markdown",
   "id": "zwx_YIa4JjAP",
   "metadata": {
    "id": "zwx_YIa4JjAP"
   },
   "source": [
    "## Data Exploration"
   ]
  },
  {
   "cell_type": "code",
   "execution_count": 4,
   "id": "97H9cQ6wJjAP",
   "metadata": {
    "colab": {
     "base_uri": "https://localhost:8080/"
    },
    "execution": {
     "iopub.execute_input": "2022-10-15T05:44:13.174781Z",
     "iopub.status.busy": "2022-10-15T05:44:13.174459Z",
     "iopub.status.idle": "2022-10-15T05:44:13.180380Z",
     "shell.execute_reply": "2022-10-15T05:44:13.179475Z",
     "shell.execute_reply.started": "2022-10-15T05:44:13.174740Z"
    },
    "id": "97H9cQ6wJjAP",
    "outputId": "a5cfe312-c4d5-4ea9-8c8e-226fcf3e03e0",
    "trusted": true
   },
   "outputs": [
    {
     "data": {
      "text/plain": [
       "(100000, 28)"
      ]
     },
     "execution_count": 4,
     "metadata": {},
     "output_type": "execute_result"
    }
   ],
   "source": [
    "df.shape"
   ]
  },
  {
   "cell_type": "code",
   "execution_count": 5,
   "id": "tZl6SpGfJjAP",
   "metadata": {
    "colab": {
     "base_uri": "https://localhost:8080/"
    },
    "execution": {
     "iopub.execute_input": "2022-10-15T05:44:13.182211Z",
     "iopub.status.busy": "2022-10-15T05:44:13.181696Z",
     "iopub.status.idle": "2022-10-15T05:44:13.302574Z",
     "shell.execute_reply": "2022-10-15T05:44:13.301984Z",
     "shell.execute_reply.started": "2022-10-15T05:44:13.182182Z"
    },
    "id": "tZl6SpGfJjAP",
    "outputId": "8e107d38-1667-4de8-943d-513e439da236",
    "trusted": true
   },
   "outputs": [
    {
     "name": "stdout",
     "output_type": "stream",
     "text": [
      "<class 'pandas.core.frame.DataFrame'>\n",
      "RangeIndex: 100000 entries, 0 to 99999\n",
      "Data columns (total 28 columns):\n",
      " #   Column                    Non-Null Count   Dtype  \n",
      "---  ------                    --------------   -----  \n",
      " 0   ID                        100000 non-null  int64  \n",
      " 1   Customer_ID               100000 non-null  int64  \n",
      " 2   Month                     100000 non-null  int64  \n",
      " 3   Name                      100000 non-null  object \n",
      " 4   Age                       100000 non-null  float64\n",
      " 5   SSN                       100000 non-null  float64\n",
      " 6   Occupation                100000 non-null  object \n",
      " 7   Annual_Income             100000 non-null  float64\n",
      " 8   Monthly_Inhand_Salary     100000 non-null  float64\n",
      " 9   Num_Bank_Accounts         100000 non-null  float64\n",
      " 10  Num_Credit_Card           100000 non-null  float64\n",
      " 11  Interest_Rate             100000 non-null  float64\n",
      " 12  Num_of_Loan               100000 non-null  float64\n",
      " 13  Type_of_Loan              100000 non-null  object \n",
      " 14  Delay_from_due_date       100000 non-null  float64\n",
      " 15  Num_of_Delayed_Payment    100000 non-null  float64\n",
      " 16  Changed_Credit_Limit      100000 non-null  float64\n",
      " 17  Num_Credit_Inquiries      100000 non-null  float64\n",
      " 18  Credit_Mix                100000 non-null  object \n",
      " 19  Outstanding_Debt          100000 non-null  float64\n",
      " 20  Credit_Utilization_Ratio  100000 non-null  float64\n",
      " 21  Credit_History_Age        100000 non-null  float64\n",
      " 22  Payment_of_Min_Amount     100000 non-null  object \n",
      " 23  Total_EMI_per_month       100000 non-null  float64\n",
      " 24  Amount_invested_monthly   100000 non-null  float64\n",
      " 25  Payment_Behaviour         100000 non-null  object \n",
      " 26  Monthly_Balance           100000 non-null  float64\n",
      " 27  Credit_Score              100000 non-null  object \n",
      "dtypes: float64(18), int64(3), object(7)\n",
      "memory usage: 21.4+ MB\n"
     ]
    }
   ],
   "source": [
    "df.info()"
   ]
  },
  {
   "cell_type": "code",
   "execution_count": 6,
   "id": "jFAQisPXJjAP",
   "metadata": {
    "colab": {
     "base_uri": "https://localhost:8080/",
     "height": 350
    },
    "execution": {
     "iopub.execute_input": "2022-10-15T05:44:13.304143Z",
     "iopub.status.busy": "2022-10-15T05:44:13.303729Z",
     "iopub.status.idle": "2022-10-15T05:44:13.358928Z",
     "shell.execute_reply": "2022-10-15T05:44:13.358355Z",
     "shell.execute_reply.started": "2022-10-15T05:44:13.304092Z"
    },
    "id": "jFAQisPXJjAP",
    "outputId": "3658383a-db6c-4019-8d15-45273d2a17d1",
    "trusted": true
   },
   "outputs": [
    {
     "data": {
      "text/html": [
       "<div>\n",
       "<style scoped>\n",
       "    .dataframe tbody tr th:only-of-type {\n",
       "        vertical-align: middle;\n",
       "    }\n",
       "\n",
       "    .dataframe tbody tr th {\n",
       "        vertical-align: top;\n",
       "    }\n",
       "\n",
       "    .dataframe thead th {\n",
       "        text-align: right;\n",
       "    }\n",
       "</style>\n",
       "<table border=\"1\" class=\"dataframe\">\n",
       "  <thead>\n",
       "    <tr style=\"text-align: right;\">\n",
       "      <th></th>\n",
       "      <th>ID</th>\n",
       "      <th>Customer_ID</th>\n",
       "      <th>Month</th>\n",
       "      <th>Age</th>\n",
       "      <th>SSN</th>\n",
       "      <th>Annual_Income</th>\n",
       "      <th>Monthly_Inhand_Salary</th>\n",
       "      <th>Num_Bank_Accounts</th>\n",
       "      <th>Num_Credit_Card</th>\n",
       "      <th>Interest_Rate</th>\n",
       "      <th>...</th>\n",
       "      <th>Delay_from_due_date</th>\n",
       "      <th>Num_of_Delayed_Payment</th>\n",
       "      <th>Changed_Credit_Limit</th>\n",
       "      <th>Num_Credit_Inquiries</th>\n",
       "      <th>Outstanding_Debt</th>\n",
       "      <th>Credit_Utilization_Ratio</th>\n",
       "      <th>Credit_History_Age</th>\n",
       "      <th>Total_EMI_per_month</th>\n",
       "      <th>Amount_invested_monthly</th>\n",
       "      <th>Monthly_Balance</th>\n",
       "    </tr>\n",
       "  </thead>\n",
       "  <tbody>\n",
       "    <tr>\n",
       "      <th>count</th>\n",
       "      <td>100000.000000</td>\n",
       "      <td>100000.000000</td>\n",
       "      <td>100000.000000</td>\n",
       "      <td>100000.000000</td>\n",
       "      <td>1.000000e+05</td>\n",
       "      <td>100000.000000</td>\n",
       "      <td>100000.000000</td>\n",
       "      <td>100000.000000</td>\n",
       "      <td>100000.000000</td>\n",
       "      <td>100000.00000</td>\n",
       "      <td>...</td>\n",
       "      <td>100000.00000</td>\n",
       "      <td>100000.000000</td>\n",
       "      <td>100000.000000</td>\n",
       "      <td>100000.000000</td>\n",
       "      <td>100000.000000</td>\n",
       "      <td>100000.000000</td>\n",
       "      <td>100000.000000</td>\n",
       "      <td>100000.000000</td>\n",
       "      <td>100000.000000</td>\n",
       "      <td>100000.000000</td>\n",
       "    </tr>\n",
       "    <tr>\n",
       "      <th>mean</th>\n",
       "      <td>80631.500000</td>\n",
       "      <td>25982.666640</td>\n",
       "      <td>4.500000</td>\n",
       "      <td>33.316340</td>\n",
       "      <td>5.004617e+08</td>\n",
       "      <td>50505.123449</td>\n",
       "      <td>4197.270835</td>\n",
       "      <td>5.368820</td>\n",
       "      <td>5.533570</td>\n",
       "      <td>14.53208</td>\n",
       "      <td>...</td>\n",
       "      <td>21.08141</td>\n",
       "      <td>13.313120</td>\n",
       "      <td>10.470323</td>\n",
       "      <td>5.798250</td>\n",
       "      <td>1426.220376</td>\n",
       "      <td>32.285173</td>\n",
       "      <td>221.220460</td>\n",
       "      <td>107.699208</td>\n",
       "      <td>55.101315</td>\n",
       "      <td>392.697586</td>\n",
       "    </tr>\n",
       "    <tr>\n",
       "      <th>std</th>\n",
       "      <td>43301.486619</td>\n",
       "      <td>14340.543051</td>\n",
       "      <td>2.291299</td>\n",
       "      <td>10.764812</td>\n",
       "      <td>2.908267e+08</td>\n",
       "      <td>38299.422093</td>\n",
       "      <td>3186.432497</td>\n",
       "      <td>2.593314</td>\n",
       "      <td>2.067098</td>\n",
       "      <td>8.74133</td>\n",
       "      <td>...</td>\n",
       "      <td>14.80456</td>\n",
       "      <td>6.237166</td>\n",
       "      <td>6.609481</td>\n",
       "      <td>3.867826</td>\n",
       "      <td>1155.129026</td>\n",
       "      <td>5.116875</td>\n",
       "      <td>99.680716</td>\n",
       "      <td>132.267056</td>\n",
       "      <td>39.006932</td>\n",
       "      <td>201.652719</td>\n",
       "    </tr>\n",
       "    <tr>\n",
       "      <th>min</th>\n",
       "      <td>5634.000000</td>\n",
       "      <td>1006.000000</td>\n",
       "      <td>1.000000</td>\n",
       "      <td>14.000000</td>\n",
       "      <td>8.134900e+04</td>\n",
       "      <td>7005.930000</td>\n",
       "      <td>303.645417</td>\n",
       "      <td>0.000000</td>\n",
       "      <td>0.000000</td>\n",
       "      <td>1.00000</td>\n",
       "      <td>...</td>\n",
       "      <td>0.00000</td>\n",
       "      <td>0.000000</td>\n",
       "      <td>0.500000</td>\n",
       "      <td>0.000000</td>\n",
       "      <td>0.230000</td>\n",
       "      <td>20.000000</td>\n",
       "      <td>1.000000</td>\n",
       "      <td>0.000000</td>\n",
       "      <td>0.000000</td>\n",
       "      <td>0.007760</td>\n",
       "    </tr>\n",
       "    <tr>\n",
       "      <th>25%</th>\n",
       "      <td>43132.750000</td>\n",
       "      <td>13664.500000</td>\n",
       "      <td>2.750000</td>\n",
       "      <td>24.000000</td>\n",
       "      <td>2.451686e+08</td>\n",
       "      <td>19342.972500</td>\n",
       "      <td>1626.594167</td>\n",
       "      <td>3.000000</td>\n",
       "      <td>4.000000</td>\n",
       "      <td>7.00000</td>\n",
       "      <td>...</td>\n",
       "      <td>10.00000</td>\n",
       "      <td>9.000000</td>\n",
       "      <td>5.380000</td>\n",
       "      <td>3.000000</td>\n",
       "      <td>566.072500</td>\n",
       "      <td>28.052567</td>\n",
       "      <td>144.000000</td>\n",
       "      <td>29.268886</td>\n",
       "      <td>27.959111</td>\n",
       "      <td>267.615983</td>\n",
       "    </tr>\n",
       "    <tr>\n",
       "      <th>50%</th>\n",
       "      <td>80631.500000</td>\n",
       "      <td>25777.000000</td>\n",
       "      <td>4.500000</td>\n",
       "      <td>33.000000</td>\n",
       "      <td>5.006886e+08</td>\n",
       "      <td>36999.705000</td>\n",
       "      <td>3095.905000</td>\n",
       "      <td>5.000000</td>\n",
       "      <td>5.000000</td>\n",
       "      <td>13.00000</td>\n",
       "      <td>...</td>\n",
       "      <td>18.00000</td>\n",
       "      <td>14.000000</td>\n",
       "      <td>9.400000</td>\n",
       "      <td>5.000000</td>\n",
       "      <td>1166.155000</td>\n",
       "      <td>32.305784</td>\n",
       "      <td>219.000000</td>\n",
       "      <td>66.462304</td>\n",
       "      <td>45.156550</td>\n",
       "      <td>333.865366</td>\n",
       "    </tr>\n",
       "    <tr>\n",
       "      <th>75%</th>\n",
       "      <td>118130.250000</td>\n",
       "      <td>38385.000000</td>\n",
       "      <td>6.250000</td>\n",
       "      <td>42.000000</td>\n",
       "      <td>7.560027e+08</td>\n",
       "      <td>71683.470000</td>\n",
       "      <td>5957.715000</td>\n",
       "      <td>7.000000</td>\n",
       "      <td>7.000000</td>\n",
       "      <td>20.00000</td>\n",
       "      <td>...</td>\n",
       "      <td>28.00000</td>\n",
       "      <td>18.000000</td>\n",
       "      <td>14.850000</td>\n",
       "      <td>8.000000</td>\n",
       "      <td>1945.962500</td>\n",
       "      <td>36.496663</td>\n",
       "      <td>302.000000</td>\n",
       "      <td>147.392573</td>\n",
       "      <td>71.295797</td>\n",
       "      <td>463.215683</td>\n",
       "    </tr>\n",
       "    <tr>\n",
       "      <th>max</th>\n",
       "      <td>155629.000000</td>\n",
       "      <td>50999.000000</td>\n",
       "      <td>8.000000</td>\n",
       "      <td>56.000000</td>\n",
       "      <td>9.999934e+08</td>\n",
       "      <td>179987.280000</td>\n",
       "      <td>15204.633333</td>\n",
       "      <td>11.000000</td>\n",
       "      <td>11.000000</td>\n",
       "      <td>34.00000</td>\n",
       "      <td>...</td>\n",
       "      <td>62.00000</td>\n",
       "      <td>25.000000</td>\n",
       "      <td>29.980000</td>\n",
       "      <td>17.000000</td>\n",
       "      <td>4998.070000</td>\n",
       "      <td>50.000000</td>\n",
       "      <td>404.000000</td>\n",
       "      <td>1779.103254</td>\n",
       "      <td>434.191089</td>\n",
       "      <td>1183.930696</td>\n",
       "    </tr>\n",
       "  </tbody>\n",
       "</table>\n",
       "<p>8 rows × 21 columns</p>\n",
       "</div>"
      ],
      "text/plain": [
       "                  ID    Customer_ID          Month            Age  \\\n",
       "count  100000.000000  100000.000000  100000.000000  100000.000000   \n",
       "mean    80631.500000   25982.666640       4.500000      33.316340   \n",
       "std     43301.486619   14340.543051       2.291299      10.764812   \n",
       "min      5634.000000    1006.000000       1.000000      14.000000   \n",
       "25%     43132.750000   13664.500000       2.750000      24.000000   \n",
       "50%     80631.500000   25777.000000       4.500000      33.000000   \n",
       "75%    118130.250000   38385.000000       6.250000      42.000000   \n",
       "max    155629.000000   50999.000000       8.000000      56.000000   \n",
       "\n",
       "                SSN  Annual_Income  Monthly_Inhand_Salary  Num_Bank_Accounts  \\\n",
       "count  1.000000e+05  100000.000000          100000.000000      100000.000000   \n",
       "mean   5.004617e+08   50505.123449            4197.270835           5.368820   \n",
       "std    2.908267e+08   38299.422093            3186.432497           2.593314   \n",
       "min    8.134900e+04    7005.930000             303.645417           0.000000   \n",
       "25%    2.451686e+08   19342.972500            1626.594167           3.000000   \n",
       "50%    5.006886e+08   36999.705000            3095.905000           5.000000   \n",
       "75%    7.560027e+08   71683.470000            5957.715000           7.000000   \n",
       "max    9.999934e+08  179987.280000           15204.633333          11.000000   \n",
       "\n",
       "       Num_Credit_Card  Interest_Rate  ...  Delay_from_due_date  \\\n",
       "count    100000.000000   100000.00000  ...         100000.00000   \n",
       "mean          5.533570       14.53208  ...             21.08141   \n",
       "std           2.067098        8.74133  ...             14.80456   \n",
       "min           0.000000        1.00000  ...              0.00000   \n",
       "25%           4.000000        7.00000  ...             10.00000   \n",
       "50%           5.000000       13.00000  ...             18.00000   \n",
       "75%           7.000000       20.00000  ...             28.00000   \n",
       "max          11.000000       34.00000  ...             62.00000   \n",
       "\n",
       "       Num_of_Delayed_Payment  Changed_Credit_Limit  Num_Credit_Inquiries  \\\n",
       "count           100000.000000         100000.000000         100000.000000   \n",
       "mean                13.313120             10.470323              5.798250   \n",
       "std                  6.237166              6.609481              3.867826   \n",
       "min                  0.000000              0.500000              0.000000   \n",
       "25%                  9.000000              5.380000              3.000000   \n",
       "50%                 14.000000              9.400000              5.000000   \n",
       "75%                 18.000000             14.850000              8.000000   \n",
       "max                 25.000000             29.980000             17.000000   \n",
       "\n",
       "       Outstanding_Debt  Credit_Utilization_Ratio  Credit_History_Age  \\\n",
       "count     100000.000000             100000.000000       100000.000000   \n",
       "mean        1426.220376                 32.285173          221.220460   \n",
       "std         1155.129026                  5.116875           99.680716   \n",
       "min            0.230000                 20.000000            1.000000   \n",
       "25%          566.072500                 28.052567          144.000000   \n",
       "50%         1166.155000                 32.305784          219.000000   \n",
       "75%         1945.962500                 36.496663          302.000000   \n",
       "max         4998.070000                 50.000000          404.000000   \n",
       "\n",
       "       Total_EMI_per_month  Amount_invested_monthly  Monthly_Balance  \n",
       "count        100000.000000            100000.000000    100000.000000  \n",
       "mean            107.699208                55.101315       392.697586  \n",
       "std             132.267056                39.006932       201.652719  \n",
       "min               0.000000                 0.000000         0.007760  \n",
       "25%              29.268886                27.959111       267.615983  \n",
       "50%              66.462304                45.156550       333.865366  \n",
       "75%             147.392573                71.295797       463.215683  \n",
       "max            1779.103254               434.191089      1183.930696  \n",
       "\n",
       "[8 rows x 21 columns]"
      ]
     },
     "execution_count": 6,
     "metadata": {},
     "output_type": "execute_result"
    }
   ],
   "source": [
    "df.describe()"
   ]
  },
  {
   "cell_type": "code",
   "execution_count": 7,
   "id": "w-VoP8rzJjAP",
   "metadata": {
    "colab": {
     "base_uri": "https://localhost:8080/"
    },
    "execution": {
     "iopub.execute_input": "2022-10-15T05:44:13.360497Z",
     "iopub.status.busy": "2022-10-15T05:44:13.360219Z",
     "iopub.status.idle": "2022-10-15T05:44:13.640611Z",
     "shell.execute_reply": "2022-10-15T05:44:13.639734Z",
     "shell.execute_reply.started": "2022-10-15T05:44:13.360471Z"
    },
    "id": "w-VoP8rzJjAP",
    "outputId": "ab304738-bb3b-491b-8b51-8e13409bdf41",
    "trusted": true
   },
   "outputs": [
    {
     "data": {
      "text/plain": [
       "np.int64(0)"
      ]
     },
     "execution_count": 7,
     "metadata": {},
     "output_type": "execute_result"
    }
   ],
   "source": [
    "df.duplicated().sum()"
   ]
  },
  {
   "cell_type": "code",
   "execution_count": 8,
   "id": "DKkGT0IhJjAP",
   "metadata": {
    "colab": {
     "base_uri": "https://localhost:8080/",
     "height": 793
    },
    "execution": {
     "iopub.execute_input": "2022-10-15T05:44:14.517915Z",
     "iopub.status.busy": "2022-10-15T05:44:14.517688Z",
     "iopub.status.idle": "2022-10-15T05:44:14.846076Z",
     "shell.execute_reply": "2022-10-15T05:44:14.845234Z",
     "shell.execute_reply.started": "2022-10-15T05:44:14.517889Z"
    },
    "id": "DKkGT0IhJjAP",
    "outputId": "b05aa54e-ab68-49c8-f3b7-24f65a6df82e",
    "trusted": true
   },
   "outputs": [
    {
     "data": {
      "text/plain": [
       "(array([    0., 10000., 20000., 30000., 40000., 50000.]),\n",
       " [Text(0.0, 0, '0'),\n",
       "  Text(10000.0, 0, '10000'),\n",
       "  Text(20000.0, 0, '20000'),\n",
       "  Text(30000.0, 0, '30000'),\n",
       "  Text(40000.0, 0, '40000'),\n",
       "  Text(50000.0, 0, '50000')])"
      ]
     },
     "execution_count": 8,
     "metadata": {},
     "output_type": "execute_result"
    },
    {
     "data": {
      "image/png": "[encoded data removed]",
      "text/plain": [
       "<Figure size 1400x700 with 1 Axes>"
      ]
     },
     "metadata": {},
     "output_type": "display_data"
    }
   ],
   "source": [
    "sns.countplot(df['Credit_Mix'],palette=\"mako\")\n",
    "plt.xticks(rotation=45)"
   ]
  },
  {
   "cell_type": "code",
   "execution_count": 9,
   "id": "PID1wJ3eJjAQ",
   "metadata": {
    "colab": {
     "base_uri": "https://localhost:8080/",
     "height": 210
    },
    "execution": {
     "iopub.execute_input": "2022-10-15T05:44:15.877130Z",
     "iopub.status.busy": "2022-10-15T05:44:15.876881Z",
     "iopub.status.idle": "2022-10-15T05:44:15.888635Z",
     "shell.execute_reply": "2022-10-15T05:44:15.887931Z",
     "shell.execute_reply.started": "2022-10-15T05:44:15.877100Z"
    },
    "id": "PID1wJ3eJjAQ",
    "outputId": "e97adb7a-74f6-47b1-e33d-bcf06ac7693c",
    "trusted": true
   },
   "outputs": [
    {
     "data": {
      "text/plain": [
       "Credit_Score\n",
       "Standard    0.53174\n",
       "Poor        0.28998\n",
       "Good        0.17828\n",
       "Name: proportion, dtype: float64"
      ]
     },
     "execution_count": 9,
     "metadata": {},
     "output_type": "execute_result"
    }
   ],
   "source": [
    "df['Credit_Score'].value_counts(normalize=True)"
   ]
  },
  {
   "cell_type": "code",
   "execution_count": 10,
   "id": "GUeA5yiaJjAQ",
   "metadata": {
    "colab": {
     "base_uri": "https://localhost:8080/",
     "height": 429
    },
    "execution": {
     "iopub.execute_input": "2022-10-15T05:44:23.909824Z",
     "iopub.status.busy": "2022-10-15T05:44:23.909463Z",
     "iopub.status.idle": "2022-10-15T05:44:23.925978Z",
     "shell.execute_reply": "2022-10-15T05:44:23.924714Z",
     "shell.execute_reply.started": "2022-10-15T05:44:23.909781Z"
    },
    "id": "GUeA5yiaJjAQ",
    "outputId": "3448a188-9fa4-46e0-f98f-f5dff0020a72",
    "trusted": true
   },
   "outputs": [
    {
     "data": {
      "text/plain": [
       "Type_of_Loan\n",
       "No Data                    11408\n",
       "Not Specified               1408\n",
       "Credit-Builder Loan         1280\n",
       "Personal Loan               1272\n",
       "Debt Consolidation Loan     1264\n",
       "Student Loan                1240\n",
       "Payday Loan                 1200\n",
       "Mortgage Loan               1176\n",
       "Auto Loan                   1152\n",
       "Home Equity Loan            1136\n",
       "Name: count, dtype: int64"
      ]
     },
     "execution_count": 10,
     "metadata": {},
     "output_type": "execute_result"
    }
   ],
   "source": [
    "df['Type_of_Loan'].value_counts().head(10)"
   ]
  },
  {
   "cell_type": "markdown",
   "id": "SWYgrZ_0JjAQ",
   "metadata": {
    "id": "SWYgrZ_0JjAQ"
   },
   "source": [
    "## Data cleaning"
   ]
  },
  {
   "cell_type": "markdown",
   "id": "yVEDwANEJjAQ",
   "metadata": {
    "id": "yVEDwANEJjAQ"
   },
   "source": [
    "#### removing unuseful Columns (Uniques)"
   ]
  },
  {
   "cell_type": "code",
   "execution_count": 11,
   "id": "cbR7UOkQJjAQ",
   "metadata": {
    "execution": {
     "iopub.execute_input": "2022-10-15T05:44:23.927602Z",
     "iopub.status.busy": "2022-10-15T05:44:23.927332Z",
     "iopub.status.idle": "2022-10-15T05:44:23.941231Z",
     "shell.execute_reply": "2022-10-15T05:44:23.940350Z",
     "shell.execute_reply.started": "2022-10-15T05:44:23.927567Z"
    },
    "id": "cbR7UOkQJjAQ",
    "trusted": true
   },
   "outputs": [],
   "source": [
    "del df['ID'] # Identification\n",
    "del df['Name'] # Name of client\n",
    "del df['SSN'] # SSN (social security number of a person)"
   ]
  },
  {
   "cell_type": "markdown",
   "id": "QrENZezgJjAQ",
   "metadata": {
    "id": "QrENZezgJjAQ"
   },
   "source": [
    "#### Fix Numerical Columns"
   ]
  },
  {
   "cell_type": "markdown",
   "id": "TdmIsukaJjAQ",
   "metadata": {
    "id": "TdmIsukaJjAQ"
   },
   "source": [
    "1. replace _  \n",
    "2. convert into float"
   ]
  },
  {
   "cell_type": "code",
   "execution_count": 12,
   "id": "GFusSBhcJjAQ",
   "metadata": {
    "execution": {
     "iopub.execute_input": "2022-10-15T05:44:23.943198Z",
     "iopub.status.busy": "2022-10-15T05:44:23.942898Z",
     "iopub.status.idle": "2022-10-15T05:44:23.954460Z",
     "shell.execute_reply": "2022-10-15T05:44:23.953389Z",
     "shell.execute_reply.started": "2022-10-15T05:44:23.943163Z"
    },
    "id": "GFusSBhcJjAQ",
    "trusted": true
   },
   "outputs": [],
   "source": [
    "N_to_fix = ['Age', 'Annual_Income', 'Num_of_Loan', 'Num_of_Delayed_Payment', 'Changed_Credit_Limit', 'Amount_invested_monthly', 'Outstanding_Debt' , 'Monthly_Balance']"
   ]
  },
  {
   "cell_type": "code",
   "execution_count": 13,
   "id": "t6S4b7ELJjAQ",
   "metadata": {
    "execution": {
     "iopub.execute_input": "2022-10-15T05:44:23.956026Z",
     "iopub.status.busy": "2022-10-15T05:44:23.955726Z",
     "iopub.status.idle": "2022-10-15T05:44:23.966071Z",
     "shell.execute_reply": "2022-10-15T05:44:23.965208Z",
     "shell.execute_reply.started": "2022-10-15T05:44:23.955992Z"
    },
    "id": "t6S4b7ELJjAQ",
    "trusted": true
   },
   "outputs": [],
   "source": [
    "def fix_nums(num):\n",
    "    try :\n",
    "        return float(num.replace(\"_\",\"\"))\n",
    "    except :\n",
    "        return np.nan"
   ]
  },
  {
   "cell_type": "code",
   "execution_count": 14,
   "id": "zu-vNF2sJjAQ",
   "metadata": {
    "execution": {
     "iopub.execute_input": "2022-10-15T05:44:23.967836Z",
     "iopub.status.busy": "2022-10-15T05:44:23.967532Z",
     "iopub.status.idle": "2022-10-15T05:44:24.484061Z",
     "shell.execute_reply": "2022-10-15T05:44:24.483253Z",
     "shell.execute_reply.started": "2022-10-15T05:44:23.967801Z"
    },
    "id": "zu-vNF2sJjAQ",
    "trusted": true
   },
   "outputs": [],
   "source": [
    "for col in N_to_fix :\n",
    "    df[col] = df[col].apply(fix_nums)"
   ]
  },
  {
   "cell_type": "markdown",
   "id": "_7tNPEPmJjAQ",
   "metadata": {
    "id": "_7tNPEPmJjAQ"
   },
   "source": [
    "### Type_of_Loan"
   ]
  },
  {
   "cell_type": "code",
   "execution_count": 15,
   "id": "GAlLJHJZJjAQ",
   "metadata": {
    "execution": {
     "iopub.execute_input": "2022-10-15T05:44:24.489763Z",
     "iopub.status.busy": "2022-10-15T05:44:24.489506Z",
     "iopub.status.idle": "2022-10-15T05:44:24.854023Z",
     "shell.execute_reply": "2022-10-15T05:44:24.853370Z",
     "shell.execute_reply.started": "2022-10-15T05:44:24.489735Z"
    },
    "id": "GAlLJHJZJjAQ",
    "trusted": true
   },
   "outputs": [],
   "source": [
    "## Rebuild Type of loans Columns\n",
    "for i in df['Type_of_Loan'].value_counts().head(9).index[1:] :\n",
    "    df[i] = df['Type_of_Loan'].str.contains(i)\n",
    "\n",
    "del df['Type_of_Loan']"
   ]
  },
  {
   "cell_type": "markdown",
   "id": "R4_Khf9HJjAQ",
   "metadata": {
    "id": "R4_Khf9HJjAQ"
   },
   "source": [
    "#### Num_Bank_Accounts"
   ]
  },
  {
   "cell_type": "code",
   "execution_count": 16,
   "id": "JIOfsAYfJjAQ",
   "metadata": {
    "execution": {
     "iopub.execute_input": "2022-10-15T05:44:24.855388Z",
     "iopub.status.busy": "2022-10-15T05:44:24.854950Z",
     "iopub.status.idle": "2022-10-15T05:44:24.902558Z",
     "shell.execute_reply": "2022-10-15T05:44:24.901620Z",
     "shell.execute_reply.started": "2022-10-15T05:44:24.855357Z"
    },
    "id": "JIOfsAYfJjAQ",
    "trusted": true
   },
   "outputs": [],
   "source": [
    "df['Num_Bank_Accounts'] = df['Num_Bank_Accounts'].apply(lambda x :abs (x))"
   ]
  },
  {
   "cell_type": "markdown",
   "id": "qD9hwyWuJjAR",
   "metadata": {
    "id": "qD9hwyWuJjAR"
   },
   "source": [
    "#### Num_Credit_Card"
   ]
  },
  {
   "cell_type": "code",
   "execution_count": 17,
   "id": "WPeb-HBxJjAR",
   "metadata": {
    "execution": {
     "iopub.execute_input": "2022-10-15T05:44:24.903945Z",
     "iopub.status.busy": "2022-10-15T05:44:24.903699Z",
     "iopub.status.idle": "2022-10-15T05:44:24.908913Z",
     "shell.execute_reply": "2022-10-15T05:44:24.908075Z",
     "shell.execute_reply.started": "2022-10-15T05:44:24.903919Z"
    },
    "id": "WPeb-HBxJjAR",
    "trusted": true
   },
   "outputs": [],
   "source": [
    "df['Num_Credit_Card'].replace(0,1,inplace=True)"
   ]
  },
  {
   "cell_type": "markdown",
   "id": "nRQrxjl2JjAR",
   "metadata": {
    "id": "nRQrxjl2JjAR"
   },
   "source": [
    "#### Credit_History_Age"
   ]
  },
  {
   "cell_type": "code",
   "execution_count": 18,
   "id": "sxcD2pHMJjAR",
   "metadata": {
    "execution": {
     "iopub.execute_input": "2022-10-15T05:44:24.911032Z",
     "iopub.status.busy": "2022-10-15T05:44:24.910309Z",
     "iopub.status.idle": "2022-10-15T05:44:24.918563Z",
     "shell.execute_reply": "2022-10-15T05:44:24.918009Z",
     "shell.execute_reply.started": "2022-10-15T05:44:24.910993Z"
    },
    "id": "sxcD2pHMJjAR",
    "trusted": true
   },
   "outputs": [],
   "source": [
    "def History_age(age):\n",
    "    try :\n",
    "        years = int(\"\".join(re.findall('[0-9]',''.join(age.split(\"and\")[0]))))\n",
    "        month = int(\"\".join(re.findall('[0-9]',''.join(age.split(\"and\")[1]))))\n",
    "        return years*12 + month\n",
    "    except :\n",
    "        return np.nan"
   ]
  },
  {
   "cell_type": "code",
   "execution_count": 19,
   "id": "eXZv4629JjAR",
   "metadata": {
    "execution": {
     "iopub.execute_input": "2022-10-15T05:44:24.919956Z",
     "iopub.status.busy": "2022-10-15T05:44:24.919469Z",
     "iopub.status.idle": "2022-10-15T05:44:25.420592Z",
     "shell.execute_reply": "2022-10-15T05:44:25.419545Z",
     "shell.execute_reply.started": "2022-10-15T05:44:24.919927Z"
    },
    "id": "eXZv4629JjAR",
    "trusted": true
   },
   "outputs": [],
   "source": [
    "df['Credit_History_Age'] = df['Credit_History_Age'].apply(History_age)"
   ]
  },
  {
   "cell_type": "markdown",
   "id": "QayYaeEaJjAR",
   "metadata": {
    "id": "QayYaeEaJjAR"
   },
   "source": [
    "#### Payment_of_Min_Amount"
   ]
  },
  {
   "cell_type": "code",
   "execution_count": 20,
   "id": "dKskqP5QJjAR",
   "metadata": {
    "execution": {
     "iopub.execute_input": "2022-10-15T05:44:25.422462Z",
     "iopub.status.busy": "2022-10-15T05:44:25.422097Z",
     "iopub.status.idle": "2022-10-15T05:44:25.432211Z",
     "shell.execute_reply": "2022-10-15T05:44:25.431164Z",
     "shell.execute_reply.started": "2022-10-15T05:44:25.422424Z"
    },
    "id": "dKskqP5QJjAR",
    "trusted": true
   },
   "outputs": [],
   "source": [
    "df['Payment_of_Min_Amount'].replace(\"NM\",\"No\",inplace=True)"
   ]
  },
  {
   "cell_type": "code",
   "execution_count": 21,
   "id": "Ak4g052aJjAR",
   "metadata": {
    "colab": {
     "base_uri": "https://localhost:8080/",
     "height": 178
    },
    "execution": {
     "iopub.execute_input": "2022-10-15T05:44:25.434292Z",
     "iopub.status.busy": "2022-10-15T05:44:25.433752Z",
     "iopub.status.idle": "2022-10-15T05:44:25.453805Z",
     "shell.execute_reply": "2022-10-15T05:44:25.453091Z",
     "shell.execute_reply.started": "2022-10-15T05:44:25.434233Z"
    },
    "id": "Ak4g052aJjAR",
    "outputId": "91f81b06-c0c5-47d2-8c3b-0fc3c4d7d040",
    "trusted": true
   },
   "outputs": [
    {
     "data": {
      "text/plain": [
       "Payment_of_Min_Amount\n",
       "Yes    52326\n",
       "No     47674\n",
       "Name: count, dtype: int64"
      ]
     },
     "execution_count": 21,
     "metadata": {},
     "output_type": "execute_result"
    }
   ],
   "source": [
    "df['Payment_of_Min_Amount'].value_counts()"
   ]
  },
  {
   "cell_type": "markdown",
   "id": "_ru2uZvJJjAS",
   "metadata": {
    "id": "_ru2uZvJJjAS"
   },
   "source": [
    "#### Payment_Behaviour"
   ]
  },
  {
   "cell_type": "code",
   "execution_count": 22,
   "id": "ljsShn_nJjAS",
   "metadata": {
    "execution": {
     "iopub.execute_input": "2022-10-15T05:44:25.454937Z",
     "iopub.status.busy": "2022-10-15T05:44:25.454717Z",
     "iopub.status.idle": "2022-10-15T05:44:25.465205Z",
     "shell.execute_reply": "2022-10-15T05:44:25.464351Z",
     "shell.execute_reply.started": "2022-10-15T05:44:25.454912Z"
    },
    "id": "ljsShn_nJjAS",
    "trusted": true
   },
   "outputs": [],
   "source": [
    "df['Payment_Behaviour']= df['Payment_Behaviour'].replace(\"!@9#%8\",np.nan)"
   ]
  },
  {
   "cell_type": "code",
   "execution_count": 23,
   "id": "aepYOfP6JjAS",
   "metadata": {
    "colab": {
     "base_uri": "https://localhost:8080/",
     "height": 304
    },
    "execution": {
     "iopub.execute_input": "2022-10-15T05:44:25.466688Z",
     "iopub.status.busy": "2022-10-15T05:44:25.466453Z",
     "iopub.status.idle": "2022-10-15T05:44:25.480859Z",
     "shell.execute_reply": "2022-10-15T05:44:25.480043Z",
     "shell.execute_reply.started": "2022-10-15T05:44:25.466648Z"
    },
    "id": "aepYOfP6JjAS",
    "outputId": "2abf1c97-5826-4969-8fb6-201aa1ff73c4",
    "trusted": true
   },
   "outputs": [
    {
     "data": {
      "text/plain": [
       "Payment_Behaviour\n",
       "Low_spent_Small_value_payments      28616\n",
       "High_spent_Medium_value_payments    19738\n",
       "High_spent_Large_value_payments     14726\n",
       "Low_spent_Medium_value_payments     14399\n",
       "High_spent_Small_value_payments     11764\n",
       "Low_spent_Large_value_payments      10757\n",
       "Name: count, dtype: int64"
      ]
     },
     "execution_count": 23,
     "metadata": {},
     "output_type": "execute_result"
    }
   ],
   "source": [
    "df['Payment_Behaviour'].value_counts()"
   ]
  },
  {
   "cell_type": "markdown",
   "id": "pYMK_OV7JjAS",
   "metadata": {
    "id": "pYMK_OV7JjAS"
   },
   "source": [
    "### Occupation"
   ]
  },
  {
   "cell_type": "code",
   "execution_count": 24,
   "id": "wbhv8PDKJjAS",
   "metadata": {
    "colab": {
     "base_uri": "https://localhost:8080/",
     "height": 586
    },
    "execution": {
     "iopub.execute_input": "2022-10-15T05:44:25.482236Z",
     "iopub.status.busy": "2022-10-15T05:44:25.482021Z",
     "iopub.status.idle": "2022-10-15T05:44:25.494645Z",
     "shell.execute_reply": "2022-10-15T05:44:25.493705Z",
     "shell.execute_reply.started": "2022-10-15T05:44:25.482212Z"
    },
    "id": "wbhv8PDKJjAS",
    "outputId": "f0c46ec5-ac50-4376-c367-305bfbac041c",
    "trusted": true
   },
   "outputs": [
    {
     "data": {
      "text/plain": [
       "Occupation\n",
       "Lawyer           7096\n",
       "Engineer         6864\n",
       "Architect        6824\n",
       "Mechanic         6776\n",
       "Accountant       6744\n",
       "Scientist        6744\n",
       "Media_Manager    6720\n",
       "Developer        6720\n",
       "Teacher          6672\n",
       "Entrepreneur     6648\n",
       "Doctor           6568\n",
       "Journalist       6536\n",
       "Manager          6432\n",
       "Musician         6352\n",
       "Writer           6304\n",
       "Name: count, dtype: int64"
      ]
     },
     "execution_count": 24,
     "metadata": {},
     "output_type": "execute_result"
    }
   ],
   "source": [
    "df['Occupation'].value_counts()"
   ]
  },
  {
   "cell_type": "code",
   "execution_count": 25,
   "id": "T3HjzsLuJjAS",
   "metadata": {
    "colab": {
     "base_uri": "https://localhost:8080/"
    },
    "execution": {
     "iopub.execute_input": "2022-10-15T05:44:25.496370Z",
     "iopub.status.busy": "2022-10-15T05:44:25.495622Z",
     "iopub.status.idle": "2022-10-15T05:44:25.509026Z",
     "shell.execute_reply": "2022-10-15T05:44:25.508030Z",
     "shell.execute_reply.started": "2022-10-15T05:44:25.496337Z"
    },
    "id": "T3HjzsLuJjAS",
    "outputId": "edf67b97-d3c8-4b40-db7d-63401abf3c47",
    "trusted": true
   },
   "outputs": [
    {
     "data": {
      "text/plain": [
       "Index(['Engineer', 'Architect', 'Mechanic', 'Accountant', 'Scientist',\n",
       "       'Media_Manager', 'Developer', 'Teacher', 'Entrepreneur', 'Doctor',\n",
       "       'Journalist', 'Manager', 'Musician', 'Writer'],\n",
       "      dtype='object', name='Occupation')"
      ]
     },
     "execution_count": 25,
     "metadata": {},
     "output_type": "execute_result"
    }
   ],
   "source": [
    "occs = df['Occupation'].value_counts().index[1:]\n",
    "occs"
   ]
  },
  {
   "cell_type": "code",
   "execution_count": 26,
   "id": "f-LvXwNLJjAT",
   "metadata": {
    "execution": {
     "iopub.execute_input": "2022-10-15T05:44:25.645658Z",
     "iopub.status.busy": "2022-10-15T05:44:25.645349Z",
     "iopub.status.idle": "2022-10-15T05:52:07.326606Z",
     "shell.execute_reply": "2022-10-15T05:52:07.325903Z",
     "shell.execute_reply.started": "2022-10-15T05:44:25.645627Z"
    },
    "id": "f-LvXwNLJjAT",
    "trusted": true
   },
   "outputs": [],
   "source": [
    "for ID in df[df['Occupation'] == \"_______\"]['Customer_ID'] :\n",
    "    oc = df[df['Customer_ID'] == ID]['Occupation'].mode()[0]\n",
    "    df[df['Customer_ID'] == ID] = df[df['Customer_ID'] == ID].replace(\"_______\",oc)"
   ]
  },
  {
   "cell_type": "code",
   "execution_count": 27,
   "id": "h_9LXGGwJjAT",
   "metadata": {
    "colab": {
     "base_uri": "https://localhost:8080/",
     "height": 586
    },
    "execution": {
     "iopub.execute_input": "2022-10-15T05:52:07.328077Z",
     "iopub.status.busy": "2022-10-15T05:52:07.327725Z",
     "iopub.status.idle": "2022-10-15T05:52:07.340144Z",
     "shell.execute_reply": "2022-10-15T05:52:07.339250Z",
     "shell.execute_reply.started": "2022-10-15T05:52:07.328051Z"
    },
    "id": "h_9LXGGwJjAT",
    "outputId": "b1fc18fb-32c2-46df-d126-8df8b103beb8",
    "trusted": true
   },
   "outputs": [
    {
     "data": {
      "text/plain": [
       "Occupation\n",
       "Lawyer           7096\n",
       "Engineer         6864\n",
       "Architect        6824\n",
       "Mechanic         6776\n",
       "Accountant       6744\n",
       "Scientist        6744\n",
       "Media_Manager    6720\n",
       "Developer        6720\n",
       "Teacher          6672\n",
       "Entrepreneur     6648\n",
       "Doctor           6568\n",
       "Journalist       6536\n",
       "Manager          6432\n",
       "Musician         6352\n",
       "Writer           6304\n",
       "Name: count, dtype: int64"
      ]
     },
     "execution_count": 27,
     "metadata": {},
     "output_type": "execute_result"
    }
   ],
   "source": [
    "df['Occupation'].value_counts()"
   ]
  },
  {
   "cell_type": "code",
   "execution_count": 28,
   "id": "z3LBx3noJjAT",
   "metadata": {
    "execution": {
     "iopub.execute_input": "2022-10-15T05:52:07.341606Z",
     "iopub.status.busy": "2022-10-15T05:52:07.341366Z",
     "iopub.status.idle": "2022-10-15T05:52:07.360715Z",
     "shell.execute_reply": "2022-10-15T05:52:07.359539Z",
     "shell.execute_reply.started": "2022-10-15T05:52:07.341580Z"
    },
    "id": "z3LBx3noJjAT",
    "trusted": true
   },
   "outputs": [],
   "source": [
    "df['Occupation'] = df['Occupation'].replace(\"_______\",df['Occupation'].mode()[0])"
   ]
  },
  {
   "cell_type": "code",
   "execution_count": 29,
   "id": "bD2ZKIrLJjAU",
   "metadata": {
    "colab": {
     "base_uri": "https://localhost:8080/",
     "height": 586
    },
    "execution": {
     "iopub.execute_input": "2022-10-15T05:52:07.362363Z",
     "iopub.status.busy": "2022-10-15T05:52:07.362008Z",
     "iopub.status.idle": "2022-10-15T05:52:07.377374Z",
     "shell.execute_reply": "2022-10-15T05:52:07.376574Z",
     "shell.execute_reply.started": "2022-10-15T05:52:07.362331Z"
    },
    "id": "bD2ZKIrLJjAU",
    "outputId": "d9f191f9-b1b4-43c0-c110-cea4ea1349c5",
    "trusted": true
   },
   "outputs": [
    {
     "data": {
      "text/plain": [
       "Occupation\n",
       "Lawyer           7096\n",
       "Engineer         6864\n",
       "Architect        6824\n",
       "Mechanic         6776\n",
       "Accountant       6744\n",
       "Scientist        6744\n",
       "Media_Manager    6720\n",
       "Developer        6720\n",
       "Teacher          6672\n",
       "Entrepreneur     6648\n",
       "Doctor           6568\n",
       "Journalist       6536\n",
       "Manager          6432\n",
       "Musician         6352\n",
       "Writer           6304\n",
       "Name: count, dtype: int64"
      ]
     },
     "execution_count": 29,
     "metadata": {},
     "output_type": "execute_result"
    }
   ],
   "source": [
    "df['Occupation'].value_counts()"
   ]
  },
  {
   "cell_type": "markdown",
   "id": "ZLaaCXEOJjAU",
   "metadata": {
    "id": "ZLaaCXEOJjAU"
   },
   "source": [
    "#### Credit_Mix"
   ]
  },
  {
   "cell_type": "code",
   "execution_count": 30,
   "id": "4ZpDpi4oJjAU",
   "metadata": {
    "colab": {
     "base_uri": "https://localhost:8080/",
     "height": 210
    },
    "execution": {
     "iopub.execute_input": "2022-10-15T05:52:07.378783Z",
     "iopub.status.busy": "2022-10-15T05:52:07.378518Z",
     "iopub.status.idle": "2022-10-15T05:52:07.394011Z",
     "shell.execute_reply": "2022-10-15T05:52:07.393209Z",
     "shell.execute_reply.started": "2022-10-15T05:52:07.378732Z"
    },
    "id": "4ZpDpi4oJjAU",
    "outputId": "4f6c9829-0e25-44d4-c8ae-681bf70e94f6",
    "trusted": true
   },
   "outputs": [
    {
     "data": {
      "text/plain": [
       "Credit_Mix\n",
       "Standard    45848\n",
       "Good        30384\n",
       "Bad         23768\n",
       "Name: count, dtype: int64"
      ]
     },
     "execution_count": 30,
     "metadata": {},
     "output_type": "execute_result"
    }
   ],
   "source": [
    "df['Credit_Mix'].value_counts()"
   ]
  },
  {
   "cell_type": "code",
   "execution_count": 31,
   "id": "IUD24Tq7JjAU",
   "metadata": {
    "execution": {
     "iopub.execute_input": "2022-10-15T05:52:07.395451Z",
     "iopub.status.busy": "2022-10-15T05:52:07.395187Z",
     "iopub.status.idle": "2022-10-15T05:52:07.399681Z",
     "shell.execute_reply": "2022-10-15T05:52:07.398881Z",
     "shell.execute_reply.started": "2022-10-15T05:52:07.395424Z"
    },
    "id": "IUD24Tq7JjAU",
    "trusted": true
   },
   "outputs": [],
   "source": [
    "m = {\n",
    "    \"Bad\":0,\n",
    "    \"Standard\":1,\n",
    "    \"Good\":2,\n",
    "    \"_\":np.nan\n",
    "}"
   ]
  },
  {
   "cell_type": "code",
   "execution_count": 32,
   "id": "_I--68HEJjAU",
   "metadata": {
    "execution": {
     "iopub.execute_input": "2022-10-15T05:52:07.401192Z",
     "iopub.status.busy": "2022-10-15T05:52:07.400964Z",
     "iopub.status.idle": "2022-10-15T05:52:07.449048Z",
     "shell.execute_reply": "2022-10-15T05:52:07.448135Z",
     "shell.execute_reply.started": "2022-10-15T05:52:07.401166Z"
    },
    "id": "_I--68HEJjAU",
    "trusted": true
   },
   "outputs": [],
   "source": [
    "df['Credit_Mix'] = df['Credit_Mix'].map(m)"
   ]
  },
  {
   "cell_type": "markdown",
   "id": "oco_2C4dJjAU",
   "metadata": {
    "id": "oco_2C4dJjAU"
   },
   "source": [
    "### Advanced Handling Missing Data"
   ]
  },
  {
   "cell_type": "code",
   "execution_count": 33,
   "id": "NFCKDkcEJjAU",
   "metadata": {
    "execution": {
     "iopub.execute_input": "2022-10-15T05:52:07.450685Z",
     "iopub.status.busy": "2022-10-15T05:52:07.450439Z",
     "iopub.status.idle": "2022-10-15T05:52:07.544542Z",
     "shell.execute_reply": "2022-10-15T05:52:07.543380Z",
     "shell.execute_reply.started": "2022-10-15T05:52:07.450657Z"
    },
    "id": "NFCKDkcEJjAU",
    "trusted": true
   },
   "outputs": [],
   "source": [
    "# Edit Columns from bool to int\n",
    "for col in list(df.columns[-8:]):\n",
    "    df[col] = df[col].astype(float)"
   ]
  },
  {
   "cell_type": "code",
   "execution_count": 34,
   "id": "VWbN--yrJjAU",
   "metadata": {
    "execution": {
     "iopub.execute_input": "2022-10-15T05:52:07.545984Z",
     "iopub.status.busy": "2022-10-15T05:52:07.545736Z",
     "iopub.status.idle": "2022-10-15T05:55:05.522217Z",
     "shell.execute_reply": "2022-10-15T05:55:05.521048Z",
     "shell.execute_reply.started": "2022-10-15T05:52:07.545956Z"
    },
    "id": "VWbN--yrJjAU",
    "trusted": true
   },
   "outputs": [],
   "source": [
    "IDs = 1\n",
    "for ID in df['Customer_ID'].unique() :\n",
    "    df['Customer_ID'] = df['Customer_ID'].replace(ID,IDs)\n",
    "    IDs += 1"
   ]
  },
  {
   "cell_type": "code",
   "execution_count": 35,
   "id": "LESXMnXhJjAU",
   "metadata": {
    "execution": {
     "iopub.execute_input": "2022-10-15T05:55:05.523696Z",
     "iopub.status.busy": "2022-10-15T05:55:05.523460Z",
     "iopub.status.idle": "2022-10-15T05:55:05.528658Z",
     "shell.execute_reply": "2022-10-15T05:55:05.527393Z",
     "shell.execute_reply.started": "2022-10-15T05:55:05.523668Z"
    },
    "id": "LESXMnXhJjAU",
    "trusted": true
   },
   "outputs": [],
   "source": [
    "from sklearn.impute import KNNImputer\n",
    "imputer = KNNImputer(n_neighbors=1)"
   ]
  },
  {
   "cell_type": "code",
   "execution_count": 36,
   "id": "TCL7XG7MJjAU",
   "metadata": {
    "colab": {
     "base_uri": "https://localhost:8080/"
    },
    "execution": {
     "iopub.execute_input": "2022-10-15T05:55:05.530238Z",
     "iopub.status.busy": "2022-10-15T05:55:05.529612Z",
     "iopub.status.idle": "2022-10-15T05:55:05.570735Z",
     "shell.execute_reply": "2022-10-15T05:55:05.569834Z",
     "shell.execute_reply.started": "2022-10-15T05:55:05.530207Z"
    },
    "id": "TCL7XG7MJjAU",
    "outputId": "f2b2f1e9-04fc-4ab0-903c-07646e20b770",
    "trusted": true
   },
   "outputs": [
    {
     "data": {
      "text/plain": [
       "Index(['Month', 'Age', 'Annual_Income', 'Monthly_Inhand_Salary',\n",
       "       'Num_Bank_Accounts', 'Num_Credit_Card', 'Interest_Rate', 'Num_of_Loan',\n",
       "       'Delay_from_due_date', 'Num_of_Delayed_Payment', 'Changed_Credit_Limit',\n",
       "       'Num_Credit_Inquiries', 'Credit_Mix', 'Outstanding_Debt',\n",
       "       'Credit_Utilization_Ratio', 'Credit_History_Age', 'Total_EMI_per_month',\n",
       "       'Amount_invested_monthly', 'Monthly_Balance', 'Not Specified',\n",
       "       'Credit-Builder Loan', 'Personal Loan', 'Debt Consolidation Loan',\n",
       "       'Student Loan', 'Payday Loan', 'Mortgage Loan', 'Auto Loan'],\n",
       "      dtype='object')"
      ]
     },
     "execution_count": 36,
     "metadata": {},
     "output_type": "execute_result"
    }
   ],
   "source": [
    "Numericals = df.select_dtypes(exclude='object').columns[1:]\n",
    "Numericals"
   ]
  },
  {
   "cell_type": "code",
   "execution_count": 37,
   "id": "2zkFd9zSJjAU",
   "metadata": {
    "colab": {
     "base_uri": "https://localhost:8080/"
    },
    "execution": {
     "iopub.execute_input": "2022-10-15T06:06:32.856661Z",
     "iopub.status.busy": "2022-10-15T06:06:32.856335Z",
     "iopub.status.idle": "2022-10-15T06:06:32.907957Z",
     "shell.execute_reply": "2022-10-15T06:06:32.907039Z",
     "shell.execute_reply.started": "2022-10-15T06:06:32.856621Z"
    },
    "id": "2zkFd9zSJjAU",
    "outputId": "86664228-faf7-4ec7-f7b0-af9928b18ee9",
    "trusted": true
   },
   "outputs": [
    {
     "name": "stdout",
     "output_type": "stream",
     "text": [
      "<class 'pandas.core.frame.DataFrame'>\n",
      "RangeIndex: 100000 entries, 0 to 99999\n",
      "Data columns (total 32 columns):\n",
      " #   Column                    Non-Null Count   Dtype  \n",
      "---  ------                    --------------   -----  \n",
      " 0   Customer_ID               100000 non-null  int64  \n",
      " 1   Month                     100000 non-null  int64  \n",
      " 2   Age                       0 non-null       float64\n",
      " 3   Occupation                100000 non-null  object \n",
      " 4   Annual_Income             0 non-null       float64\n",
      " 5   Monthly_Inhand_Salary     100000 non-null  float64\n",
      " 6   Num_Bank_Accounts         100000 non-null  float64\n",
      " 7   Num_Credit_Card           100000 non-null  float64\n",
      " 8   Interest_Rate             100000 non-null  float64\n",
      " 9   Num_of_Loan               0 non-null       float64\n",
      " 10  Delay_from_due_date       100000 non-null  float64\n",
      " 11  Num_of_Delayed_Payment    0 non-null       float64\n",
      " 12  Changed_Credit_Limit      0 non-null       float64\n",
      " 13  Num_Credit_Inquiries      100000 non-null  float64\n",
      " 14  Credit_Mix                100000 non-null  float64\n",
      " 15  Outstanding_Debt          0 non-null       float64\n",
      " 16  Credit_Utilization_Ratio  100000 non-null  float64\n",
      " 17  Credit_History_Age        0 non-null       float64\n",
      " 18  Payment_of_Min_Amount     100000 non-null  object \n",
      " 19  Total_EMI_per_month       100000 non-null  float64\n",
      " 20  Amount_invested_monthly   0 non-null       float64\n",
      " 21  Payment_Behaviour         100000 non-null  object \n",
      " 22  Monthly_Balance           0 non-null       float64\n",
      " 23  Credit_Score              100000 non-null  object \n",
      " 24  Not Specified             100000 non-null  float64\n",
      " 25  Credit-Builder Loan       100000 non-null  float64\n",
      " 26  Personal Loan             100000 non-null  float64\n",
      " 27  Debt Consolidation Loan   100000 non-null  float64\n",
      " 28  Student Loan              100000 non-null  float64\n",
      " 29  Payday Loan               100000 non-null  float64\n",
      " 30  Mortgage Loan             100000 non-null  float64\n",
      " 31  Auto Loan                 100000 non-null  float64\n",
      "dtypes: float64(26), int64(2), object(4)\n",
      "memory usage: 24.4+ MB\n"
     ]
    }
   ],
   "source": [
    "df.info()"
   ]
  },
  {
   "cell_type": "code",
   "execution_count": 38,
   "id": "gUiaK9JLJjAU",
   "metadata": {
    "colab": {
     "base_uri": "https://localhost:8080/",
     "height": 210
    },
    "execution": {
     "iopub.execute_input": "2022-10-15T06:06:42.576930Z",
     "iopub.status.busy": "2022-10-15T06:06:42.576699Z",
     "iopub.status.idle": "2022-10-15T06:06:42.593045Z",
     "shell.execute_reply": "2022-10-15T06:06:42.592447Z",
     "shell.execute_reply.started": "2022-10-15T06:06:42.576905Z"
    },
    "id": "gUiaK9JLJjAU",
    "outputId": "8967d357-53b5-4a95-aee7-cdae04a19d77",
    "trusted": true
   },
   "outputs": [
    {
     "data": {
      "text/plain": [
       "Credit_Score\n",
       "Standard    53174\n",
       "Poor        28998\n",
       "Good        17828\n",
       "Name: count, dtype: int64"
      ]
     },
     "execution_count": 38,
     "metadata": {},
     "output_type": "execute_result"
    }
   ],
   "source": [
    "df['Credit_Score'].value_counts()"
   ]
  },
  {
   "cell_type": "code",
   "execution_count": 39,
   "id": "XJinDxj-JjAU",
   "metadata": {
    "execution": {
     "iopub.execute_input": "2022-10-15T06:06:42.594520Z",
     "iopub.status.busy": "2022-10-15T06:06:42.593942Z",
     "iopub.status.idle": "2022-10-15T06:06:42.604133Z",
     "shell.execute_reply": "2022-10-15T06:06:42.603364Z",
     "shell.execute_reply.started": "2022-10-15T06:06:42.594486Z"
    },
    "id": "XJinDxj-JjAU",
    "trusted": true
   },
   "outputs": [],
   "source": [
    "m = {\n",
    "    \"Poor\":0,\n",
    "    \"Standard\":1,\n",
    "    \"Good\":2\n",
    "}"
   ]
  },
  {
   "cell_type": "code",
   "execution_count": 40,
   "id": "9Hjlx6_lJjAU",
   "metadata": {
    "execution": {
     "iopub.execute_input": "2022-10-15T06:06:42.605662Z",
     "iopub.status.busy": "2022-10-15T06:06:42.605354Z",
     "iopub.status.idle": "2022-10-15T06:06:42.627655Z",
     "shell.execute_reply": "2022-10-15T06:06:42.626631Z",
     "shell.execute_reply.started": "2022-10-15T06:06:42.605635Z"
    },
    "id": "9Hjlx6_lJjAU",
    "trusted": true
   },
   "outputs": [],
   "source": [
    "df['Credit_Score'] = df['Credit_Score'].map(m)"
   ]
  },
  {
   "cell_type": "code",
   "execution_count": 41,
   "id": "6AcalK4iJjAU",
   "metadata": {
    "execution": {
     "iopub.execute_input": "2022-10-15T06:06:42.629698Z",
     "iopub.status.busy": "2022-10-15T06:06:42.629395Z",
     "iopub.status.idle": "2022-10-15T06:06:42.635545Z",
     "shell.execute_reply": "2022-10-15T06:06:42.634972Z",
     "shell.execute_reply.started": "2022-10-15T06:06:42.629660Z"
    },
    "id": "6AcalK4iJjAU",
    "trusted": true
   },
   "outputs": [],
   "source": [
    "del df['Customer_ID']"
   ]
  },
  {
   "cell_type": "code",
   "execution_count": 42,
   "id": "OC9KTB0gJjAU",
   "metadata": {
    "execution": {
     "iopub.execute_input": "2022-10-15T06:06:42.636944Z",
     "iopub.status.busy": "2022-10-15T06:06:42.636619Z",
     "iopub.status.idle": "2022-10-15T06:06:42.732126Z",
     "shell.execute_reply": "2022-10-15T06:06:42.731478Z",
     "shell.execute_reply.started": "2022-10-15T06:06:42.636918Z"
    },
    "id": "OC9KTB0gJjAU",
    "trusted": true
   },
   "outputs": [],
   "source": [
    "df = pd.get_dummies(df,drop_first=True)"
   ]
  },
  {
   "cell_type": "code",
   "execution_count": 43,
   "id": "Khb7rbWhJjAV",
   "metadata": {
    "colab": {
     "base_uri": "https://localhost:8080/"
    },
    "execution": {
     "iopub.execute_input": "2022-10-15T06:06:42.733535Z",
     "iopub.status.busy": "2022-10-15T06:06:42.733261Z",
     "iopub.status.idle": "2022-10-15T06:06:42.759553Z",
     "shell.execute_reply": "2022-10-15T06:06:42.758447Z",
     "shell.execute_reply.started": "2022-10-15T06:06:42.733506Z"
    },
    "id": "Khb7rbWhJjAV",
    "outputId": "d5895f29-97ff-4036-e1c4-5a53f41f2650",
    "trusted": true
   },
   "outputs": [
    {
     "name": "stdout",
     "output_type": "stream",
     "text": [
      "<class 'pandas.core.frame.DataFrame'>\n",
      "RangeIndex: 100000 entries, 0 to 99999\n",
      "Data columns (total 48 columns):\n",
      " #   Column                                              Non-Null Count   Dtype  \n",
      "---  ------                                              --------------   -----  \n",
      " 0   Month                                               100000 non-null  int64  \n",
      " 1   Age                                                 0 non-null       float64\n",
      " 2   Annual_Income                                       0 non-null       float64\n",
      " 3   Monthly_Inhand_Salary                               100000 non-null  float64\n",
      " 4   Num_Bank_Accounts                                   100000 non-null  float64\n",
      " 5   Num_Credit_Card                                     100000 non-null  float64\n",
      " 6   Interest_Rate                                       100000 non-null  float64\n",
      " 7   Num_of_Loan                                         0 non-null       float64\n",
      " 8   Delay_from_due_date                                 100000 non-null  float64\n",
      " 9   Num_of_Delayed_Payment                              0 non-null       float64\n",
      " 10  Changed_Credit_Limit                                0 non-null       float64\n",
      " 11  Num_Credit_Inquiries                                100000 non-null  float64\n",
      " 12  Credit_Mix                                          100000 non-null  float64\n",
      " 13  Outstanding_Debt                                    0 non-null       float64\n",
      " 14  Credit_Utilization_Ratio                            100000 non-null  float64\n",
      " 15  Credit_History_Age                                  0 non-null       float64\n",
      " 16  Total_EMI_per_month                                 100000 non-null  float64\n",
      " 17  Amount_invested_monthly                             0 non-null       float64\n",
      " 18  Monthly_Balance                                     0 non-null       float64\n",
      " 19  Credit_Score                                        100000 non-null  int64  \n",
      " 20  Not Specified                                       100000 non-null  float64\n",
      " 21  Credit-Builder Loan                                 100000 non-null  float64\n",
      " 22  Personal Loan                                       100000 non-null  float64\n",
      " 23  Debt Consolidation Loan                             100000 non-null  float64\n",
      " 24  Student Loan                                        100000 non-null  float64\n",
      " 25  Payday Loan                                         100000 non-null  float64\n",
      " 26  Mortgage Loan                                       100000 non-null  float64\n",
      " 27  Auto Loan                                           100000 non-null  float64\n",
      " 28  Occupation_Architect                                100000 non-null  bool   \n",
      " 29  Occupation_Developer                                100000 non-null  bool   \n",
      " 30  Occupation_Doctor                                   100000 non-null  bool   \n",
      " 31  Occupation_Engineer                                 100000 non-null  bool   \n",
      " 32  Occupation_Entrepreneur                             100000 non-null  bool   \n",
      " 33  Occupation_Journalist                               100000 non-null  bool   \n",
      " 34  Occupation_Lawyer                                   100000 non-null  bool   \n",
      " 35  Occupation_Manager                                  100000 non-null  bool   \n",
      " 36  Occupation_Mechanic                                 100000 non-null  bool   \n",
      " 37  Occupation_Media_Manager                            100000 non-null  bool   \n",
      " 38  Occupation_Musician                                 100000 non-null  bool   \n",
      " 39  Occupation_Scientist                                100000 non-null  bool   \n",
      " 40  Occupation_Teacher                                  100000 non-null  bool   \n",
      " 41  Occupation_Writer                                   100000 non-null  bool   \n",
      " 42  Payment_of_Min_Amount_Yes                           100000 non-null  bool   \n",
      " 43  Payment_Behaviour_High_spent_Medium_value_payments  100000 non-null  bool   \n",
      " 44  Payment_Behaviour_High_spent_Small_value_payments   100000 non-null  bool   \n",
      " 45  Payment_Behaviour_Low_spent_Large_value_payments    100000 non-null  bool   \n",
      " 46  Payment_Behaviour_Low_spent_Medium_value_payments   100000 non-null  bool   \n",
      " 47  Payment_Behaviour_Low_spent_Small_value_payments    100000 non-null  bool   \n",
      "dtypes: bool(20), float64(26), int64(2)\n",
      "memory usage: 23.3 MB\n"
     ]
    }
   ],
   "source": [
    "df.info()"
   ]
  },
  {
   "cell_type": "code",
   "execution_count": 44,
   "id": "2ma4pX1AJjAV",
   "metadata": {
    "execution": {
     "iopub.execute_input": "2022-10-15T06:16:34.889614Z",
     "iopub.status.busy": "2022-10-15T06:16:34.889268Z",
     "iopub.status.idle": "2022-10-15T06:16:35.861889Z",
     "shell.execute_reply": "2022-10-15T06:16:35.860869Z",
     "shell.execute_reply.started": "2022-10-15T06:16:34.889577Z"
    },
    "id": "2ma4pX1AJjAV",
    "trusted": true
   },
   "outputs": [],
   "source": [
    "df.to_csv('credit_cleaned.csv',index=False)"
   ]
  },
  {
   "cell_type": "markdown",
   "id": "udIjO7mrJjAV",
   "metadata": {
    "id": "udIjO7mrJjAV"
   },
   "source": [
    "### Data Spliting\n",
    "- Try Resampling"
   ]
  },
  {
   "cell_type": "code",
   "execution_count": 45,
   "id": "J8woZ80BJjAV",
   "metadata": {
    "execution": {
     "iopub.execute_input": "2022-10-15T06:16:35.864385Z",
     "iopub.status.busy": "2022-10-15T06:16:35.864013Z",
     "iopub.status.idle": "2022-10-15T06:16:35.895638Z",
     "shell.execute_reply": "2022-10-15T06:16:35.894938Z",
     "shell.execute_reply.started": "2022-10-15T06:16:35.864322Z"
    },
    "id": "J8woZ80BJjAV",
    "trusted": true
   },
   "outputs": [],
   "source": [
    "# define dataset\n",
    "X, y = df.drop(\"Credit_Score\",axis=1).values , df[\"Credit_Score\"]"
   ]
  },
  {
   "cell_type": "code",
   "execution_count": 46,
   "id": "iR0ISosWJjAV",
   "metadata": {
    "execution": {
     "iopub.execute_input": "2022-10-15T06:17:37.592181Z",
     "iopub.status.busy": "2022-10-15T06:17:37.591881Z",
     "iopub.status.idle": "2022-10-15T06:17:39.492131Z",
     "shell.execute_reply": "2022-10-15T06:17:39.491026Z",
     "shell.execute_reply.started": "2022-10-15T06:17:37.592151Z"
    },
    "id": "iR0ISosWJjAV",
    "trusted": true
   },
   "outputs": [],
   "source": [
    "from sklearn.impute import SimpleImputer\n",
    "from imblearn.over_sampling import SMOTE\n",
    "\n",
    "# Create an imputer transformer to handle missing values\n",
    "imputer = SimpleImputer(strategy='mean')\n",
    "X_imputed = imputer.fit_transform(X)\n",
    "\n",
    "# Apply SMOTE to the imputed data\n",
    "rus = SMOTE(sampling_strategy='auto')\n",
    "X_data_rus, y_data_rus = rus.fit_resample(X_imputed, y)\n"
   ]
  },
  {
   "cell_type": "code",
   "execution_count": 47,
   "id": "ygNTLEuWJjAV",
   "metadata": {
    "colab": {
     "base_uri": "https://localhost:8080/",
     "height": 210
    },
    "execution": {
     "iopub.execute_input": "2022-10-15T06:17:40.977274Z",
     "iopub.status.busy": "2022-10-15T06:17:40.976951Z",
     "iopub.status.idle": "2022-10-15T06:17:40.987585Z",
     "shell.execute_reply": "2022-10-15T06:17:40.986776Z",
     "shell.execute_reply.started": "2022-10-15T06:17:40.977240Z"
    },
    "id": "ygNTLEuWJjAV",
    "outputId": "3875f64d-092f-4fb1-fe1a-ce04f41af377",
    "trusted": true
   },
   "outputs": [
    {
     "data": {
      "text/plain": [
       "Credit_Score\n",
       "2    0.333333\n",
       "1    0.333333\n",
       "0    0.333333\n",
       "Name: proportion, dtype: float64"
      ]
     },
     "execution_count": 47,
     "metadata": {},
     "output_type": "execute_result"
    }
   ],
   "source": [
    "y_data_rus.value_counts(normalize=True)"
   ]
  },
  {
   "cell_type": "code",
   "execution_count": 48,
   "id": "vxr0UwVgJjAV",
   "metadata": {
    "execution": {
     "iopub.execute_input": "2022-10-15T06:17:41.756350Z",
     "iopub.status.busy": "2022-10-15T06:17:41.756040Z",
     "iopub.status.idle": "2022-10-15T06:17:41.862651Z",
     "shell.execute_reply": "2022-10-15T06:17:41.861870Z",
     "shell.execute_reply.started": "2022-10-15T06:17:41.756315Z"
    },
    "id": "vxr0UwVgJjAV",
    "trusted": true
   },
   "outputs": [],
   "source": [
    "# split into train and test sets\n",
    "X_train, X_test, y_train, y_test = train_test_split(X_data_rus, y_data_rus, test_size=0.3, random_state=42,stratify=y_data_rus)"
   ]
  },
  {
   "cell_type": "markdown",
   "id": "pVESrroGJjAV",
   "metadata": {
    "id": "pVESrroGJjAV"
   },
   "source": [
    "### Handling Numerical\n",
    "- Using Power transformer to avoid Data Skewness"
   ]
  },
  {
   "cell_type": "code",
   "execution_count": 49,
   "id": "xEmFC-ndJjAV",
   "metadata": {
    "execution": {
     "iopub.execute_input": "2022-10-15T06:17:42.391241Z",
     "iopub.status.busy": "2022-10-15T06:17:42.390904Z",
     "iopub.status.idle": "2022-10-15T06:17:51.935726Z",
     "shell.execute_reply": "2022-10-15T06:17:51.934717Z",
     "shell.execute_reply.started": "2022-10-15T06:17:42.391202Z"
    },
    "id": "xEmFC-ndJjAV",
    "trusted": true
   },
   "outputs": [],
   "source": [
    "scalar = PowerTransformer(method='yeo-johnson', standardize=True).fit(X_train)"
   ]
  },
  {
   "cell_type": "code",
   "execution_count": 50,
   "id": "Q1KyhNLJJjAV",
   "metadata": {
    "execution": {
     "iopub.execute_input": "2022-10-15T06:17:51.939155Z",
     "iopub.status.busy": "2022-10-15T06:17:51.937794Z",
     "iopub.status.idle": "2022-10-15T06:17:52.881831Z",
     "shell.execute_reply": "2022-10-15T06:17:52.880707Z",
     "shell.execute_reply.started": "2022-10-15T06:17:51.939106Z"
    },
    "id": "Q1KyhNLJJjAV",
    "trusted": true
   },
   "outputs": [],
   "source": [
    "X_train = scalar.transform(X_train)\n",
    "X_test = scalar.transform(X_test)"
   ]
  },
  {
   "cell_type": "markdown",
   "id": "8uN_F7GBLqQR",
   "metadata": {
    "id": "8uN_F7GBLqQR"
   },
   "source": [
    "\n",
    "From the 15 box plots above, we can deduce the following:\n",
    "1. The more someone earns anually, the better their credit score is.\n",
    "2. Similar to annual income, a higher monthly in-hand salary leads to a better credit score.\n",
    "3. The ideal number of bank accounts is 2 - 4. Having more than 5 negatively affects your credit score.\n",
    "4. Similar to bank accounts, having more than 5 credit cards will negatively affect your credit scores. The ideal number is 3-5.\n",
    "5. 4 - 11% is the sweet spot for average instest rate. Anything above 15% is a no-no.\n",
    "6. Take 1-3 loans at a time inorder to keep a good credit score. Having more than 3 loans negatively impacts credtit scores.\n",
    "7. To maintain a good credit score, you have a 5-14 day delay window. Delaying for more than 17 days affects your credit score negatively.\n",
    "8. Delaying 4-12 payments from the due date is the safety window. Anything above 12 payments negatively affexts credit scores.\n",
    "9. An outstanding debt of $380 – $1150 will not affect your credit scores, but going above $1338 affects your credit scores negatively.\n",
    "10. Your credit utilization ratio doesn’t affect your credit scores.\n",
    "11. Having a long credit history results in better credit scores.\n",
    "12. The number of EMIs you are paying in a month doesn’t affect credit scores that much.\n",
    "13. How much you invest monthly doesn’t really affect your credit scores.\n",
    "14. Having a high monthly balance in your account at the end of the month is good for your credit scores.\n",
    "15. Credit scores tend to improve with an increase in age."
   ]
  },
  {
   "cell_type": "markdown",
   "id": "etUomObeJjAV",
   "metadata": {
    "id": "etUomObeJjAV"
   },
   "source": [
    "# Modeling and Evaluation\n"
   ]
  },
  {
   "cell_type": "markdown",
   "id": "TcOFXplnJjAV",
   "metadata": {
    "id": "TcOFXplnJjAV"
   },
   "source": [
    "#### Model Building"
   ]
  },
  {
   "cell_type": "code",
   "execution_count": 51,
   "id": "J9DTZOkAJjAV",
   "metadata": {
    "execution": {
     "iopub.execute_input": "2022-10-15T06:19:01.758655Z",
     "iopub.status.busy": "2022-10-15T06:19:01.758344Z",
     "iopub.status.idle": "2022-10-15T06:19:01.764831Z",
     "shell.execute_reply": "2022-10-15T06:19:01.764077Z",
     "shell.execute_reply.started": "2022-10-15T06:19:01.758619Z"
    },
    "id": "J9DTZOkAJjAV",
    "trusted": true
   },
   "outputs": [],
   "source": [
    "bagging = BaggingClassifier(n_jobs=-1)\n",
    "extraTrees = ExtraTreesClassifier(max_depth=10, n_jobs=-1)\n",
    "randomForest = RandomForestClassifier(n_jobs=-1)\n",
    "histGradientBoosting = HistGradientBoostingClassifier()\n",
    "XGB = XGBClassifier(n_jobs=-1)\n",
    "\n",
    "model = StackingClassifier([\n",
    "    ('bagging', bagging),\n",
    "    ('extraTress', extraTrees),\n",
    "    ('randomforest', randomForest),\n",
    "    ('histGradientBoosting', histGradientBoosting),\n",
    "    ('XGB', XGB)\n",
    "], n_jobs=-1)"
   ]
  },
  {
   "cell_type": "markdown",
   "id": "B08neXRZJjAV",
   "metadata": {
    "id": "B08neXRZJjAV"
   },
   "source": [
    "#### Model fitting"
   ]
  },
  {
   "cell_type": "code",
   "execution_count": 52,
   "id": "YwK9A-hQJjAV",
   "metadata": {
    "colab": {
     "base_uri": "https://localhost:8080/",
     "height": 182
    },
    "execution": {
     "iopub.execute_input": "2022-10-15T06:19:03.060632Z",
     "iopub.status.busy": "2022-10-15T06:19:03.059511Z",
     "iopub.status.idle": "2022-10-15T06:30:41.257350Z",
     "shell.execute_reply": "2022-10-15T06:30:41.255989Z",
     "shell.execute_reply.started": "2022-10-15T06:19:03.060580Z"
    },
    "id": "YwK9A-hQJjAV",
    "outputId": "f0798030-9a5b-4420-b54d-a275cd3f5afb",
    "trusted": true
   },
   "outputs": [
    {
     "data": {
      "text/html": [
       "<style>#sk-container-id-1 {\n",
       "  /* Definition of color scheme common for light and dark mode */\n",
       "  --sklearn-color-text: black;\n",
       "  --sklearn-color-line: gray;\n",
       "  /* Definition of color scheme for unfitted estimators */\n",
       "  --sklearn-color-unfitted-level-0: #fff5e6;\n",
       "  --sklearn-color-unfitted-level-1: #f6e4d2;\n",
       "  --sklearn-color-unfitted-level-2: #ffe0b3;\n",
       "  --sklearn-color-unfitted-level-3: chocolate;\n",
       "  /* Definition of color scheme for fitted estimators */\n",
       "  --sklearn-color-fitted-level-0: #f0f8ff;\n",
       "  --sklearn-color-fitted-level-1: #d4ebff;\n",
       "  --sklearn-color-fitted-level-2: #b3dbfd;\n",
       "  --sklearn-color-fitted-level-3: cornflowerblue;\n",
       "\n",
       "  /* Specific color for light theme */\n",
       "  --sklearn-color-text-on-default-background: var(--sg-text-color, var(--theme-code-foreground, var(--jp-content-font-color1, black)));\n",
       "  --sklearn-color-background: var(--sg-background-color, var(--theme-background, var(--jp-layout-color0, white)));\n",
       "  --sklearn-color-border-box: var(--sg-text-color, var(--theme-code-foreground, var(--jp-content-font-color1, black)));\n",
       "  --sklearn-color-icon: #696969;\n",
       "\n",
       "  @media (prefers-color-scheme: dark) {\n",
       "    /* Redefinition of color scheme for dark theme */\n",
       "    --sklearn-color-text-on-default-background: var(--sg-text-color, var(--theme-code-foreground, var(--jp-content-font-color1, white)));\n",
       "    --sklearn-color-background: var(--sg-background-color, var(--theme-background, var(--jp-layout-color0, #111)));\n",
       "    --sklearn-color-border-box: var(--sg-text-color, var(--theme-code-foreground, var(--jp-content-font-color1, white)));\n",
       "    --sklearn-color-icon: #878787;\n",
       "  }\n",
       "}\n",
       "\n",
       "#sk-container-id-1 {\n",
       "  color: var(--sklearn-color-text);\n",
       "}\n",
       "\n",
       "#sk-container-id-1 pre {\n",
       "  padding: 0;\n",
       "}\n",
       "\n",
       "#sk-container-id-1 input.sk-hidden--visually {\n",
       "  border: 0;\n",
       "  clip: rect(1px 1px 1px 1px);\n",
       "  clip: rect(1px, 1px, 1px, 1px);\n",
       "  height: 1px;\n",
       "  margin: -1px;\n",
       "  overflow: hidden;\n",
       "  padding: 0;\n",
       "  position: absolute;\n",
       "  width: 1px;\n",
       "}\n",
       "\n",
       "#sk-container-id-1 div.sk-dashed-wrapped {\n",
       "  border: 1px dashed var(--sklearn-color-line);\n",
       "  margin: 0 0.4em 0.5em 0.4em;\n",
       "  box-sizing: border-box;\n",
       "  padding-bottom: 0.4em;\n",
       "  background-color: var(--sklearn-color-background);\n",
       "}\n",
       "\n",
       "#sk-container-id-1 div.sk-container {\n",
       "  /* jupyter's `normalize.less` sets `[hidden] { display: none; }`\n",
       "     but bootstrap.min.css set `[hidden] { display: none !important; }`\n",
       "     so we also need the `!important` here to be able to override the\n",
       "     default hidden behavior on the sphinx rendered scikit-learn.org.\n",
       "     See: https://github.com/scikit-learn/scikit-learn/issues/21755 */\n",
       "  display: inline-block !important;\n",
       "  position: relative;\n",
       "}\n",
       "\n",
       "#sk-container-id-1 div.sk-text-repr-fallback {\n",
       "  display: none;\n",
       "}\n",
       "\n",
       "div.sk-parallel-item,\n",
       "div.sk-serial,\n",
       "div.sk-item {\n",
       "  /* draw centered vertical line to link estimators */\n",
       "  background-image: linear-gradient(var(--sklearn-color-text-on-default-background), var(--sklearn-color-text-on-default-background));\n",
       "  background-size: 2px 100%;\n",
       "  background-repeat: no-repeat;\n",
       "  background-position: center center;\n",
       "}\n",
       "\n",
       "/* Parallel-specific style estimator block */\n",
       "\n",
       "#sk-container-id-1 div.sk-parallel-item::after {\n",
       "  content: \"\";\n",
       "  width: 100%;\n",
       "  border-bottom: 2px solid var(--sklearn-color-text-on-default-background);\n",
       "  flex-grow: 1;\n",
       "}\n",
       "\n",
       "#sk-container-id-1 div.sk-parallel {\n",
       "  display: flex;\n",
       "  align-items: stretch;\n",
       "  justify-content: center;\n",
       "  background-color: var(--sklearn-color-background);\n",
       "  position: relative;\n",
       "}\n",
       "\n",
       "#sk-container-id-1 div.sk-parallel-item {\n",
       "  display: flex;\n",
       "  flex-direction: column;\n",
       "}\n",
       "\n",
       "#sk-container-id-1 div.sk-parallel-item:first-child::after {\n",
       "  align-self: flex-end;\n",
       "  width: 50%;\n",
       "}\n",
       "\n",
       "#sk-container-id-1 div.sk-parallel-item:last-child::after {\n",
       "  align-self: flex-start;\n",
       "  width: 50%;\n",
       "}\n",
       "\n",
       "#sk-container-id-1 div.sk-parallel-item:only-child::after {\n",
       "  width: 0;\n",
       "}\n",
       "\n",
       "/* Serial-specific style estimator block */\n",
       "\n",
       "#sk-container-id-1 div.sk-serial {\n",
       "  display: flex;\n",
       "  flex-direction: column;\n",
       "  align-items: center;\n",
       "  background-color: var(--sklearn-color-background);\n",
       "  padding-right: 1em;\n",
       "  padding-left: 1em;\n",
       "}\n",
       "\n",
       "\n",
       "/* Toggleable style: style used for estimator/Pipeline/ColumnTransformer box that is\n",
       "clickable and can be expanded/collapsed.\n",
       "- Pipeline and ColumnTransformer use this feature and define the default style\n",
       "- Estimators will overwrite some part of the style using the `sk-estimator` class\n",
       "*/\n",
       "\n",
       "/* Pipeline and ColumnTransformer style (default) */\n",
       "\n",
       "#sk-container-id-1 div.sk-toggleable {\n",
       "  /* Default theme specific background. It is overwritten whether we have a\n",
       "  specific estimator or a Pipeline/ColumnTransformer */\n",
       "  background-color: var(--sklearn-color-background);\n",
       "}\n",
       "\n",
       "/* Toggleable label */\n",
       "#sk-container-id-1 label.sk-toggleable__label {\n",
       "  cursor: pointer;\n",
       "  display: block;\n",
       "  width: 100%;\n",
       "  margin-bottom: 0;\n",
       "  padding: 0.5em;\n",
       "  box-sizing: border-box;\n",
       "  text-align: center;\n",
       "}\n",
       "\n",
       "#sk-container-id-1 label.sk-toggleable__label-arrow:before {\n",
       "  /* Arrow on the left of the label */\n",
       "  content: \"▸\";\n",
       "  float: left;\n",
       "  margin-right: 0.25em;\n",
       "  color: var(--sklearn-color-icon);\n",
       "}\n",
       "\n",
       "#sk-container-id-1 label.sk-toggleable__label-arrow:hover:before {\n",
       "  color: var(--sklearn-color-text);\n",
       "}\n",
       "\n",
       "/* Toggleable content - dropdown */\n",
       "\n",
       "#sk-container-id-1 div.sk-toggleable__content {\n",
       "  max-height: 0;\n",
       "  max-width: 0;\n",
       "  overflow: hidden;\n",
       "  text-align: left;\n",
       "  /* unfitted */\n",
       "  background-color: var(--sklearn-color-unfitted-level-0);\n",
       "}\n",
       "\n",
       "#sk-container-id-1 div.sk-toggleable__content.fitted {\n",
       "  /* fitted */\n",
       "  background-color: var(--sklearn-color-fitted-level-0);\n",
       "}\n",
       "\n",
       "#sk-container-id-1 div.sk-toggleable__content pre {\n",
       "  margin: 0.2em;\n",
       "  border-radius: 0.25em;\n",
       "  color: var(--sklearn-color-text);\n",
       "  /* unfitted */\n",
       "  background-color: var(--sklearn-color-unfitted-level-0);\n",
       "}\n",
       "\n",
       "#sk-container-id-1 div.sk-toggleable__content.fitted pre {\n",
       "  /* unfitted */\n",
       "  background-color: var(--sklearn-color-fitted-level-0);\n",
       "}\n",
       "\n",
       "#sk-container-id-1 input.sk-toggleable__control:checked~div.sk-toggleable__content {\n",
       "  /* Expand drop-down */\n",
       "  max-height: 200px;\n",
       "  max-width: 100%;\n",
       "  overflow: auto;\n",
       "}\n",
       "\n",
       "#sk-container-id-1 input.sk-toggleable__control:checked~label.sk-toggleable__label-arrow:before {\n",
       "  content: \"▾\";\n",
       "}\n",
       "\n",
       "/* Pipeline/ColumnTransformer-specific style */\n",
       "\n",
       "#sk-container-id-1 div.sk-label input.sk-toggleable__control:checked~label.sk-toggleable__label {\n",
       "  color: var(--sklearn-color-text);\n",
       "  background-color: var(--sklearn-color-unfitted-level-2);\n",
       "}\n",
       "\n",
       "#sk-container-id-1 div.sk-label.fitted input.sk-toggleable__control:checked~label.sk-toggleable__label {\n",
       "  background-color: var(--sklearn-color-fitted-level-2);\n",
       "}\n",
       "\n",
       "/* Estimator-specific style */\n",
       "\n",
       "/* Colorize estimator box */\n",
       "#sk-container-id-1 div.sk-estimator input.sk-toggleable__control:checked~label.sk-toggleable__label {\n",
       "  /* unfitted */\n",
       "  background-color: var(--sklearn-color-unfitted-level-2);\n",
       "}\n",
       "\n",
       "#sk-container-id-1 div.sk-estimator.fitted input.sk-toggleable__control:checked~label.sk-toggleable__label {\n",
       "  /* fitted */\n",
       "  background-color: var(--sklearn-color-fitted-level-2);\n",
       "}\n",
       "\n",
       "#sk-container-id-1 div.sk-label label.sk-toggleable__label,\n",
       "#sk-container-id-1 div.sk-label label {\n",
       "  /* The background is the default theme color */\n",
       "  color: var(--sklearn-color-text-on-default-background);\n",
       "}\n",
       "\n",
       "/* On hover, darken the color of the background */\n",
       "#sk-container-id-1 div.sk-label:hover label.sk-toggleable__label {\n",
       "  color: var(--sklearn-color-text);\n",
       "  background-color: var(--sklearn-color-unfitted-level-2);\n",
       "}\n",
       "\n",
       "/* Label box, darken color on hover, fitted */\n",
       "#sk-container-id-1 div.sk-label.fitted:hover label.sk-toggleable__label.fitted {\n",
       "  color: var(--sklearn-color-text);\n",
       "  background-color: var(--sklearn-color-fitted-level-2);\n",
       "}\n",
       "\n",
       "/* Estimator label */\n",
       "\n",
       "#sk-container-id-1 div.sk-label label {\n",
       "  font-family: monospace;\n",
       "  font-weight: bold;\n",
       "  display: inline-block;\n",
       "  line-height: 1.2em;\n",
       "}\n",
       "\n",
       "#sk-container-id-1 div.sk-label-container {\n",
       "  text-align: center;\n",
       "}\n",
       "\n",
       "/* Estimator-specific */\n",
       "#sk-container-id-1 div.sk-estimator {\n",
       "  font-family: monospace;\n",
       "  border: 1px dotted var(--sklearn-color-border-box);\n",
       "  border-radius: 0.25em;\n",
       "  box-sizing: border-box;\n",
       "  margin-bottom: 0.5em;\n",
       "  /* unfitted */\n",
       "  background-color: var(--sklearn-color-unfitted-level-0);\n",
       "}\n",
       "\n",
       "#sk-container-id-1 div.sk-estimator.fitted {\n",
       "  /* fitted */\n",
       "  background-color: var(--sklearn-color-fitted-level-0);\n",
       "}\n",
       "\n",
       "/* on hover */\n",
       "#sk-container-id-1 div.sk-estimator:hover {\n",
       "  /* unfitted */\n",
       "  background-color: var(--sklearn-color-unfitted-level-2);\n",
       "}\n",
       "\n",
       "#sk-container-id-1 div.sk-estimator.fitted:hover {\n",
       "  /* fitted */\n",
       "  background-color: var(--sklearn-color-fitted-level-2);\n",
       "}\n",
       "\n",
       "/* Specification for estimator info (e.g. \"i\" and \"?\") */\n",
       "\n",
       "/* Common style for \"i\" and \"?\" */\n",
       "\n",
       ".sk-estimator-doc-link,\n",
       "a:link.sk-estimator-doc-link,\n",
       "a:visited.sk-estimator-doc-link {\n",
       "  float: right;\n",
       "  font-size: smaller;\n",
       "  line-height: 1em;\n",
       "  font-family: monospace;\n",
       "  background-color: var(--sklearn-color-background);\n",
       "  border-radius: 1em;\n",
       "  height: 1em;\n",
       "  width: 1em;\n",
       "  text-decoration: none !important;\n",
       "  margin-left: 1ex;\n",
       "  /* unfitted */\n",
       "  border: var(--sklearn-color-unfitted-level-1) 1pt solid;\n",
       "  color: var(--sklearn-color-unfitted-level-1);\n",
       "}\n",
       "\n",
       ".sk-estimator-doc-link.fitted,\n",
       "a:link.sk-estimator-doc-link.fitted,\n",
       "a:visited.sk-estimator-doc-link.fitted {\n",
       "  /* fitted */\n",
       "  border: var(--sklearn-color-fitted-level-1) 1pt solid;\n",
       "  color: var(--sklearn-color-fitted-level-1);\n",
       "}\n",
       "\n",
       "/* On hover */\n",
       "div.sk-estimator:hover .sk-estimator-doc-link:hover,\n",
       ".sk-estimator-doc-link:hover,\n",
       "div.sk-label-container:hover .sk-estimator-doc-link:hover,\n",
       ".sk-estimator-doc-link:hover {\n",
       "  /* unfitted */\n",
       "  background-color: var(--sklearn-color-unfitted-level-3);\n",
       "  color: var(--sklearn-color-background);\n",
       "  text-decoration: none;\n",
       "}\n",
       "\n",
       "div.sk-estimator.fitted:hover .sk-estimator-doc-link.fitted:hover,\n",
       ".sk-estimator-doc-link.fitted:hover,\n",
       "div.sk-label-container:hover .sk-estimator-doc-link.fitted:hover,\n",
       ".sk-estimator-doc-link.fitted:hover {\n",
       "  /* fitted */\n",
       "  background-color: var(--sklearn-color-fitted-level-3);\n",
       "  color: var(--sklearn-color-background);\n",
       "  text-decoration: none;\n",
       "}\n",
       "\n",
       "/* Span, style for the box shown on hovering the info icon */\n",
       ".sk-estimator-doc-link span {\n",
       "  display: none;\n",
       "  z-index: 9999;\n",
       "  position: relative;\n",
       "  font-weight: normal;\n",
       "  right: .2ex;\n",
       "  padding: .5ex;\n",
       "  margin: .5ex;\n",
       "  width: min-content;\n",
       "  min-width: 20ex;\n",
       "  max-width: 50ex;\n",
       "  color: var(--sklearn-color-text);\n",
       "  box-shadow: 2pt 2pt 4pt #999;\n",
       "  /* unfitted */\n",
       "  background: var(--sklearn-color-unfitted-level-0);\n",
       "  border: .5pt solid var(--sklearn-color-unfitted-level-3);\n",
       "}\n",
       "\n",
       ".sk-estimator-doc-link.fitted span {\n",
       "  /* fitted */\n",
       "  background: var(--sklearn-color-fitted-level-0);\n",
       "  border: var(--sklearn-color-fitted-level-3);\n",
       "}\n",
       "\n",
       ".sk-estimator-doc-link:hover span {\n",
       "  display: block;\n",
       "}\n",
       "\n",
       "/* \"?\"-specific style due to the `<a>` HTML tag */\n",
       "\n",
       "#sk-container-id-1 a.estimator_doc_link {\n",
       "  float: right;\n",
       "  font-size: 1rem;\n",
       "  line-height: 1em;\n",
       "  font-family: monospace;\n",
       "  background-color: var(--sklearn-color-background);\n",
       "  border-radius: 1rem;\n",
       "  height: 1rem;\n",
       "  width: 1rem;\n",
       "  text-decoration: none;\n",
       "  /* unfitted */\n",
       "  color: var(--sklearn-color-unfitted-level-1);\n",
       "  border: var(--sklearn-color-unfitted-level-1) 1pt solid;\n",
       "}\n",
       "\n",
       "#sk-container-id-1 a.estimator_doc_link.fitted {\n",
       "  /* fitted */\n",
       "  border: var(--sklearn-color-fitted-level-1) 1pt solid;\n",
       "  color: var(--sklearn-color-fitted-level-1);\n",
       "}\n",
       "\n",
       "/* On hover */\n",
       "#sk-container-id-1 a.estimator_doc_link:hover {\n",
       "  /* unfitted */\n",
       "  background-color: var(--sklearn-color-unfitted-level-3);\n",
       "  color: var(--sklearn-color-background);\n",
       "  text-decoration: none;\n",
       "}\n",
       "\n",
       "#sk-container-id-1 a.estimator_doc_link.fitted:hover {\n",
       "  /* fitted */\n",
       "  background-color: var(--sklearn-color-fitted-level-3);\n",
       "}\n",
       "</style><div id=\"sk-container-id-1\" class=\"sk-top-container\"><div class=\"sk-text-repr-fallback\"><pre>StackingClassifier(estimators=[(&#x27;bagging&#x27;, BaggingClassifier(n_jobs=-1)),\n",
       "                               (&#x27;extraTress&#x27;,\n",
       "                                ExtraTreesClassifier(max_depth=10, n_jobs=-1)),\n",
       "                               (&#x27;randomforest&#x27;,\n",
       "                                RandomForestClassifier(n_jobs=-1)),\n",
       "                               (&#x27;histGradientBoosting&#x27;,\n",
       "                                HistGradientBoostingClassifier()),\n",
       "                               (&#x27;XGB&#x27;,\n",
       "                                XGBClassifier(base_score=None, booster=None,\n",
       "                                              callbacks=None,\n",
       "                                              colsample_bylevel=None,\n",
       "                                              colsample_bynode=None...\n",
       "                                              grow_policy=None,\n",
       "                                              importance_type=None,\n",
       "                                              interaction_constraints=None,\n",
       "                                              learning_rate=None, max_bin=None,\n",
       "                                              max_cat_threshold=None,\n",
       "                                              max_cat_to_onehot=None,\n",
       "                                              max_delta_step=None,\n",
       "                                              max_depth=None, max_leaves=None,\n",
       "                                              min_child_weight=None,\n",
       "                                              missing=nan,\n",
       "                                              monotone_constraints=None,\n",
       "                                              multi_strategy=None,\n",
       "                                              n_estimators=None, n_jobs=-1,\n",
       "                                              num_parallel_tree=None,\n",
       "                                              random_state=None, ...))],\n",
       "                   n_jobs=-1)</pre><b>In a Jupyter environment, please rerun this cell to show the HTML representation or trust the notebook. <br />On GitHub, the HTML representation is unable to render, please try loading this page with nbviewer.org.</b></div><div class=\"sk-container\" hidden><div class=\"sk-item sk-dashed-wrapped\"><div class=\"sk-label-container\"><div class=\"sk-label fitted sk-toggleable\"><input class=\"sk-toggleable__control sk-hidden--visually\" id=\"sk-estimator-id-1\" type=\"checkbox\" ><label for=\"sk-estimator-id-1\" class=\"sk-toggleable__label fitted sk-toggleable__label-arrow fitted\">&nbsp;&nbsp;StackingClassifier<a class=\"sk-estimator-doc-link fitted\" rel=\"noreferrer\" target=\"_blank\" href=\"https://scikit-learn.org/1.5/modules/generated/sklearn.ensemble.StackingClassifier.html\">?<span>Documentation for StackingClassifier</span></a><span class=\"sk-estimator-doc-link fitted\">i<span>Fitted</span></span></label><div class=\"sk-toggleable__content fitted\"><pre>StackingClassifier(estimators=[(&#x27;bagging&#x27;, BaggingClassifier(n_jobs=-1)),\n",
       "                               (&#x27;extraTress&#x27;,\n",
       "                                ExtraTreesClassifier(max_depth=10, n_jobs=-1)),\n",
       "                               (&#x27;randomforest&#x27;,\n",
       "                                RandomForestClassifier(n_jobs=-1)),\n",
       "                               (&#x27;histGradientBoosting&#x27;,\n",
       "                                HistGradientBoostingClassifier()),\n",
       "                               (&#x27;XGB&#x27;,\n",
       "                                XGBClassifier(base_score=None, booster=None,\n",
       "                                              callbacks=None,\n",
       "                                              colsample_bylevel=None,\n",
       "                                              colsample_bynode=None...\n",
       "                                              grow_policy=None,\n",
       "                                              importance_type=None,\n",
       "                                              interaction_constraints=None,\n",
       "                                              learning_rate=None, max_bin=None,\n",
       "                                              max_cat_threshold=None,\n",
       "                                              max_cat_to_onehot=None,\n",
       "                                              max_delta_step=None,\n",
       "                                              max_depth=None, max_leaves=None,\n",
       "                                              min_child_weight=None,\n",
       "                                              missing=nan,\n",
       "                                              monotone_constraints=None,\n",
       "                                              multi_strategy=None,\n",
       "                                              n_estimators=None, n_jobs=-1,\n",
       "                                              num_parallel_tree=None,\n",
       "                                              random_state=None, ...))],\n",
       "                   n_jobs=-1)</pre></div> </div></div><div class=\"sk-serial\"><div class=\"sk-item\"><div class=\"sk-parallel\"><div class=\"sk-parallel-item\"><div class=\"sk-item\"><div class=\"sk-label-container\"><div class=\"sk-label fitted sk-toggleable\"><label>bagging</label></div></div><div class=\"sk-serial\"><div class=\"sk-item\"><div class=\"sk-estimator fitted sk-toggleable\"><input class=\"sk-toggleable__control sk-hidden--visually\" id=\"sk-estimator-id-2\" type=\"checkbox\" ><label for=\"sk-estimator-id-2\" class=\"sk-toggleable__label fitted sk-toggleable__label-arrow fitted\">&nbsp;BaggingClassifier<a class=\"sk-estimator-doc-link fitted\" rel=\"noreferrer\" target=\"_blank\" href=\"https://scikit-learn.org/1.5/modules/generated/sklearn.ensemble.BaggingClassifier.html\">?<span>Documentation for BaggingClassifier</span></a></label><div class=\"sk-toggleable__content fitted\"><pre>BaggingClassifier(n_jobs=-1)</pre></div> </div></div></div></div></div><div class=\"sk-parallel-item\"><div class=\"sk-item\"><div class=\"sk-label-container\"><div class=\"sk-label fitted sk-toggleable\"><label>extraTress</label></div></div><div class=\"sk-serial\"><div class=\"sk-item\"><div class=\"sk-estimator fitted sk-toggleable\"><input class=\"sk-toggleable__control sk-hidden--visually\" id=\"sk-estimator-id-3\" type=\"checkbox\" ><label for=\"sk-estimator-id-3\" class=\"sk-toggleable__label fitted sk-toggleable__label-arrow fitted\">&nbsp;ExtraTreesClassifier<a class=\"sk-estimator-doc-link fitted\" rel=\"noreferrer\" target=\"_blank\" href=\"https://scikit-learn.org/1.5/modules/generated/sklearn.ensemble.ExtraTreesClassifier.html\">?<span>Documentation for ExtraTreesClassifier</span></a></label><div class=\"sk-toggleable__content fitted\"><pre>ExtraTreesClassifier(max_depth=10, n_jobs=-1)</pre></div> </div></div></div></div></div><div class=\"sk-parallel-item\"><div class=\"sk-item\"><div class=\"sk-label-container\"><div class=\"sk-label fitted sk-toggleable\"><label>randomforest</label></div></div><div class=\"sk-serial\"><div class=\"sk-item\"><div class=\"sk-estimator fitted sk-toggleable\"><input class=\"sk-toggleable__control sk-hidden--visually\" id=\"sk-estimator-id-4\" type=\"checkbox\" ><label for=\"sk-estimator-id-4\" class=\"sk-toggleable__label fitted sk-toggleable__label-arrow fitted\">&nbsp;RandomForestClassifier<a class=\"sk-estimator-doc-link fitted\" rel=\"noreferrer\" target=\"_blank\" href=\"https://scikit-learn.org/1.5/modules/generated/sklearn.ensemble.RandomForestClassifier.html\">?<span>Documentation for RandomForestClassifier</span></a></label><div class=\"sk-toggleable__content fitted\"><pre>RandomForestClassifier(n_jobs=-1)</pre></div> </div></div></div></div></div><div class=\"sk-parallel-item\"><div class=\"sk-item\"><div class=\"sk-label-container\"><div class=\"sk-label fitted sk-toggleable\"><label>histGradientBoosting</label></div></div><div class=\"sk-serial\"><div class=\"sk-item\"><div class=\"sk-estimator fitted sk-toggleable\"><input class=\"sk-toggleable__control sk-hidden--visually\" id=\"sk-estimator-id-5\" type=\"checkbox\" ><label for=\"sk-estimator-id-5\" class=\"sk-toggleable__label fitted sk-toggleable__label-arrow fitted\">&nbsp;HistGradientBoostingClassifier<a class=\"sk-estimator-doc-link fitted\" rel=\"noreferrer\" target=\"_blank\" href=\"https://scikit-learn.org/1.5/modules/generated/sklearn.ensemble.HistGradientBoostingClassifier.html\">?<span>Documentation for HistGradientBoostingClassifier</span></a></label><div class=\"sk-toggleable__content fitted\"><pre>HistGradientBoostingClassifier()</pre></div> </div></div></div></div></div><div class=\"sk-parallel-item\"><div class=\"sk-item\"><div class=\"sk-label-container\"><div class=\"sk-label fitted sk-toggleable\"><label>XGB</label></div></div><div class=\"sk-serial\"><div class=\"sk-item\"><div class=\"sk-estimator fitted sk-toggleable\"><input class=\"sk-toggleable__control sk-hidden--visually\" id=\"sk-estimator-id-6\" type=\"checkbox\" ><label for=\"sk-estimator-id-6\" class=\"sk-toggleable__label fitted sk-toggleable__label-arrow fitted\">XGBClassifier</label><div class=\"sk-toggleable__content fitted\"><pre>XGBClassifier(base_score=None, booster=None, callbacks=None,\n",
       "              colsample_bylevel=None, colsample_bynode=None,\n",
       "              colsample_bytree=None, device=None, early_stopping_rounds=None,\n",
       "              enable_categorical=False, eval_metric=None, feature_types=None,\n",
       "              gamma=None, grow_policy=None, importance_type=None,\n",
       "              interaction_constraints=None, learning_rate=None, max_bin=None,\n",
       "              max_cat_threshold=None, max_cat_to_onehot=None,\n",
       "              max_delta_step=None, max_depth=None, max_leaves=None,\n",
       "              min_child_weight=None, missing=nan, monotone_constraints=None,\n",
       "              multi_strategy=None, n_estimators=None, n_jobs=-1,\n",
       "              num_parallel_tree=None, random_state=None, ...)</pre></div> </div></div></div></div></div></div></div><div class=\"sk-item\"><div class=\"sk-parallel\"><div class=\"sk-parallel-item\"><div class=\"sk-item\"><div class=\"sk-label-container\"><div class=\"sk-label fitted sk-toggleable\"><label>final_estimator</label></div></div><div class=\"sk-serial\"><div class=\"sk-item\"><div class=\"sk-estimator fitted sk-toggleable\"><input class=\"sk-toggleable__control sk-hidden--visually\" id=\"sk-estimator-id-7\" type=\"checkbox\" ><label for=\"sk-estimator-id-7\" class=\"sk-toggleable__label fitted sk-toggleable__label-arrow fitted\">&nbsp;LogisticRegression<a class=\"sk-estimator-doc-link fitted\" rel=\"noreferrer\" target=\"_blank\" href=\"https://scikit-learn.org/1.5/modules/generated/sklearn.linear_model.LogisticRegression.html\">?<span>Documentation for LogisticRegression</span></a></label><div class=\"sk-toggleable__content fitted\"><pre>LogisticRegression()</pre></div> </div></div></div></div></div></div></div></div></div></div></div>"
      ],
      "text/plain": [
       "StackingClassifier(estimators=[('bagging', BaggingClassifier(n_jobs=-1)),\n",
       "                               ('extraTress',\n",
       "                                ExtraTreesClassifier(max_depth=10, n_jobs=-1)),\n",
       "                               ('randomforest',\n",
       "                                RandomForestClassifier(n_jobs=-1)),\n",
       "                               ('histGradientBoosting',\n",
       "                                HistGradientBoostingClassifier()),\n",
       "                               ('XGB',\n",
       "                                XGBClassifier(base_score=None, booster=None,\n",
       "                                              callbacks=None,\n",
       "                                              colsample_bylevel=None,\n",
       "                                              colsample_bynode=None...\n",
       "                                              grow_policy=None,\n",
       "                                              importance_type=None,\n",
       "                                              interaction_constraints=None,\n",
       "                                              learning_rate=None, max_bin=None,\n",
       "                                              max_cat_threshold=None,\n",
       "                                              max_cat_to_onehot=None,\n",
       "                                              max_delta_step=None,\n",
       "                                              max_depth=None, max_leaves=None,\n",
       "                                              min_child_weight=None,\n",
       "                                              missing=nan,\n",
       "                                              monotone_constraints=None,\n",
       "                                              multi_strategy=None,\n",
       "                                              n_estimators=None, n_jobs=-1,\n",
       "                                              num_parallel_tree=None,\n",
       "                                              random_state=None, ...))],\n",
       "                   n_jobs=-1)"
      ]
     },
     "execution_count": 52,
     "metadata": {},
     "output_type": "execute_result"
    }
   ],
   "source": [
    "model.fit(X_train, y_train)"
   ]
  },
  {
   "cell_type": "markdown",
   "id": "6KSeYSwoJjAV",
   "metadata": {
    "id": "6KSeYSwoJjAV"
   },
   "source": [
    "#### model evaluation"
   ]
  },
  {
   "cell_type": "code",
   "execution_count": 54,
   "id": "YYq0lyAPJjAV",
   "metadata": {
    "colab": {
     "base_uri": "https://localhost:8080/"
    },
    "execution": {
     "iopub.execute_input": "2022-10-15T06:30:41.270189Z",
     "iopub.status.busy": "2022-10-15T06:30:41.266021Z",
     "iopub.status.idle": "2022-10-15T06:30:47.726003Z",
     "shell.execute_reply": "2022-10-15T06:30:47.724857Z",
     "shell.execute_reply.started": "2022-10-15T06:30:41.270080Z"
    },
    "id": "YYq0lyAPJjAV",
    "outputId": "b2e7e761-b0ca-4100-dde4-42b7933f4cba",
    "trusted": true
   },
   "outputs": [
    {
     "name": "stdout",
     "output_type": "stream",
     "text": [
      "Train Score:  0.9993641696144718\n"
     ]
    }
   ],
   "source": [
    "print(\"Train Score: \",model.score(X_train, y_train))"
   ]
  },
  {
   "cell_type": "code",
   "execution_count": 55,
   "id": "DKHtSVy4JjAW",
   "metadata": {
    "colab": {
     "base_uri": "https://localhost:8080/"
    },
    "execution": {
     "iopub.execute_input": "2022-10-15T06:30:47.728937Z",
     "iopub.status.busy": "2022-10-15T06:30:47.728252Z",
     "iopub.status.idle": "2022-10-15T06:30:50.301546Z",
     "shell.execute_reply": "2022-10-15T06:30:50.300593Z",
     "shell.execute_reply.started": "2022-10-15T06:30:47.728886Z"
    },
    "id": "DKHtSVy4JjAW",
    "outputId": "0beca740-d636-42bd-f99a-4a4c0ad58679",
    "trusted": true
   },
   "outputs": [
    {
     "name": "stdout",
     "output_type": "stream",
     "text": [
      "Test Score:  0.8643458637189961\n"
     ]
    }
   ],
   "source": [
    "print(\"Test Score: \",model.score(X_test, y_test))"
   ]
  },
  {
   "cell_type": "code",
   "execution_count": 56,
   "id": "tEPHdi18JjAW",
   "metadata": {
    "execution": {
     "iopub.execute_input": "2022-10-15T06:30:50.304905Z",
     "iopub.status.busy": "2022-10-15T06:30:50.304309Z",
     "iopub.status.idle": "2022-10-15T06:30:53.115109Z",
     "shell.execute_reply": "2022-10-15T06:30:53.113972Z",
     "shell.execute_reply.started": "2022-10-15T06:30:50.304862Z"
    },
    "id": "tEPHdi18JjAW",
    "trusted": true
   },
   "outputs": [],
   "source": [
    "y_pred = model.predict(X_test)"
   ]
  },
  {
   "cell_type": "code",
   "execution_count": 57,
   "id": "C-fOlc59JjAW",
   "metadata": {
    "colab": {
     "base_uri": "https://localhost:8080/"
    },
    "execution": {
     "iopub.execute_input": "2022-10-15T06:30:53.126214Z",
     "iopub.status.busy": "2022-10-15T06:30:53.125529Z",
     "iopub.status.idle": "2022-10-15T06:30:53.289719Z",
     "shell.execute_reply": "2022-10-15T06:30:53.288894Z",
     "shell.execute_reply.started": "2022-10-15T06:30:53.126170Z"
    },
    "id": "C-fOlc59JjAW",
    "outputId": "9c8510ef-618f-4db0-a642-f3175166101b",
    "trusted": true
   },
   "outputs": [
    {
     "name": "stdout",
     "output_type": "stream",
     "text": [
      "              precision    recall  f1-score   support\n",
      "\n",
      "           0       0.87      0.87      0.87     15858\n",
      "           1       0.81      0.81      0.81     15953\n",
      "           2       0.91      0.91      0.91     16046\n",
      "\n",
      "    accuracy                           0.86     47857\n",
      "   macro avg       0.86      0.86      0.86     47857\n",
      "weighted avg       0.86      0.86      0.86     47857\n",
      "\n"
     ]
    }
   ],
   "source": [
    "print(classification_report(y_pred,y_test))"
   ]
  },
  {
   "cell_type": "markdown",
   "id": "FlTD7TXYJjAW",
   "metadata": {
    "id": "FlTD7TXYJjAW"
   },
   "source": [
    "#### model Saving"
   ]
  },
  {
   "cell_type": "code",
   "execution_count": 58,
   "id": "kNCShgxCJjAW",
   "metadata": {
    "execution": {
     "iopub.execute_input": "2022-10-15T06:30:53.331172Z",
     "iopub.status.busy": "2022-10-15T06:30:53.329830Z",
     "iopub.status.idle": "2022-10-15T06:30:53.336659Z",
     "shell.execute_reply": "2022-10-15T06:30:53.335945Z",
     "shell.execute_reply.started": "2022-10-15T06:30:53.331129Z"
    },
    "id": "kNCShgxCJjAW",
    "trusted": true
   },
   "outputs": [],
   "source": [
    "#joblib.dump(model,'model.h5')\n",
    "#joblib.dump(scalar,'scalar.h5')"
   ]
  },
  {
   "cell_type": "code",
   "execution_count": null,
   "id": "f65b1cc4",
   "metadata": {},
   "outputs": [],
   "source": []
  }
 ],
 "metadata": {
  "colab": {
   "provenance": []
  },
  "kernelspec": {
   "display_name": "Python 3",
   "language": "python",
   "name": "python3"
  },
  "language_info": {
   "codemirror_mode": {
    "name": "ipython",
    "version": 3
   },
   "file_extension": ".py",
   "mimetype": "text/x-python",
   "name": "python",
   "nbconvert_exporter": "python",
   "pygments_lexer": "ipython3",
   "version": "3.13.0"
  }
 },
 "nbformat": 4,
 "nbformat_minor": 5
}
